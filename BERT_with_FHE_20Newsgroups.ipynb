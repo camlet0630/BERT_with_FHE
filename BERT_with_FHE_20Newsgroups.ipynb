{
  "cells": [
    {
      "cell_type": "markdown",
      "source": [
        "## Setup\n",
        "\n",
        "說明：這部分如果出現需要重新啟動的報錯 (You must restart the runtime in order to use newly installed versions.)，重新啟動就可以了(這個 cell 可能需要跑兩次)"
      ],
      "metadata": {
        "id": "qCvsUhUxQf8U"
      },
      "id": "qCvsUhUxQf8U"
    },
    {
      "cell_type": "code",
      "source": [
        "! pip install -U pip setuptools\n",
        "! pip install concrete-ml transformers datasets"
      ],
      "metadata": {
        "colab": {
          "base_uri": "https://localhost:8080/",
          "height": 1000
        },
        "id": "hAAkcirKQiOL",
        "outputId": "e66fc955-d2b5-46a6-8688-e1da444292d7"
      },
      "id": "hAAkcirKQiOL",
      "execution_count": null,
      "outputs": [
        {
          "output_type": "stream",
          "name": "stdout",
          "text": [
            "Looking in indexes: https://pypi.org/simple, https://us-python.pkg.dev/colab-wheels/public/simple/\n",
            "Requirement already satisfied: pip in /usr/local/lib/python3.10/dist-packages (23.1.2)\n",
            "Requirement already satisfied: setuptools in /usr/local/lib/python3.10/dist-packages (65.6.3)\n",
            "Collecting setuptools\n",
            "  Using cached setuptools-67.8.0-py3-none-any.whl (1.1 MB)\n",
            "Installing collected packages: setuptools\n",
            "  Attempting uninstall: setuptools\n",
            "    Found existing installation: setuptools 65.6.3\n",
            "    Uninstalling setuptools-65.6.3:\n",
            "      Successfully uninstalled setuptools-65.6.3\n",
            "\u001b[31mERROR: pip's dependency resolver does not currently take into account all the packages that are installed. This behaviour is the source of the following dependency conflicts.\n",
            "ipython 7.34.0 requires jedi>=0.16, which is not installed.\n",
            "concrete-ml 1.0.2 requires setuptools==65.6.3, but you have setuptools 67.8.0 which is incompatible.\n",
            "torchaudio 2.0.2+cu118 requires torch==2.0.1, but you have torch 1.13.1 which is incompatible.\n",
            "torchdata 0.6.1 requires torch==2.0.1, but you have torch 1.13.1 which is incompatible.\n",
            "torchtext 0.15.2 requires torch==2.0.1, but you have torch 1.13.1 which is incompatible.\n",
            "torchvision 0.15.2+cu118 requires torch==2.0.1, but you have torch 1.13.1 which is incompatible.\u001b[0m\u001b[31m\n",
            "\u001b[0mSuccessfully installed setuptools-67.8.0\n"
          ]
        },
        {
          "output_type": "display_data",
          "data": {
            "application/vnd.colab-display-data+json": {
              "pip_warning": {
                "packages": [
                  "_distutils_hack",
                  "pkg_resources",
                  "setuptools"
                ]
              }
            }
          },
          "metadata": {}
        },
        {
          "output_type": "stream",
          "name": "stdout",
          "text": [
            "Looking in indexes: https://pypi.org/simple, https://us-python.pkg.dev/colab-wheels/public/simple/\n",
            "Requirement already satisfied: concrete-ml in /usr/local/lib/python3.10/dist-packages (1.0.2)\n",
            "Requirement already satisfied: transformers in /usr/local/lib/python3.10/dist-packages (4.29.2)\n",
            "Requirement already satisfied: datasets in /usr/local/lib/python3.10/dist-packages (2.12.0)\n",
            "Requirement already satisfied: boto3<2.0.0,>=1.23.5 in /usr/local/lib/python3.10/dist-packages (from concrete-ml) (1.26.140)\n",
            "Requirement already satisfied: brevitas==0.8.0 in /usr/local/lib/python3.10/dist-packages (from concrete-ml) (0.8.0)\n",
            "Requirement already satisfied: concrete-python==1.0.0 in /usr/local/lib/python3.10/dist-packages (from concrete-ml) (1.0.0)\n",
            "Requirement already satisfied: fastapi<0.94.0,>=0.93.0 in /usr/local/lib/python3.10/dist-packages (from concrete-ml) (0.93.0)\n",
            "Requirement already satisfied: hummingbird-ml[onnx]==0.4.8 in /usr/local/lib/python3.10/dist-packages (from concrete-ml) (0.4.8)\n",
            "Requirement already satisfied: numpy==1.23.5 in /usr/local/lib/python3.10/dist-packages (from concrete-ml) (1.23.5)\n",
            "Requirement already satisfied: onnx==1.13.1 in /usr/local/lib/python3.10/dist-packages (from concrete-ml) (1.13.1)\n",
            "Requirement already satisfied: onnxoptimizer==0.3.10 in /usr/local/lib/python3.10/dist-packages (from concrete-ml) (0.3.10)\n",
            "Requirement already satisfied: onnxruntime==1.13.1 in /usr/local/lib/python3.10/dist-packages (from concrete-ml) (1.13.1)\n",
            "Requirement already satisfied: protobuf==3.20.3 in /usr/local/lib/python3.10/dist-packages (from concrete-ml) (3.20.3)\n",
            "Requirement already satisfied: python-multipart<0.0.7,>=0.0.6 in /usr/local/lib/python3.10/dist-packages (from concrete-ml) (0.0.6)\n",
            "Requirement already satisfied: scikit-learn==1.1.3 in /usr/local/lib/python3.10/dist-packages (from concrete-ml) (1.1.3)\n",
            "Requirement already satisfied: scipy==1.10.1 in /usr/local/lib/python3.10/dist-packages (from concrete-ml) (1.10.1)\n",
            "Collecting setuptools==65.6.3 (from concrete-ml)\n",
            "  Using cached setuptools-65.6.3-py3-none-any.whl (1.2 MB)\n",
            "Requirement already satisfied: skops==0.5.0 in /usr/local/lib/python3.10/dist-packages (from concrete-ml) (0.5.0)\n",
            "Requirement already satisfied: skorch==0.11.0 in /usr/local/lib/python3.10/dist-packages (from concrete-ml) (0.11.0)\n",
            "Requirement already satisfied: torch==1.13.1 in /usr/local/lib/python3.10/dist-packages (from concrete-ml) (1.13.1)\n",
            "Requirement already satisfied: tqdm<5.0.0,>=4.64.1 in /usr/local/lib/python3.10/dist-packages (from concrete-ml) (4.65.0)\n",
            "Requirement already satisfied: typing-extensions==4.4.0 in /usr/local/lib/python3.10/dist-packages (from concrete-ml) (4.4.0)\n",
            "Requirement already satisfied: uvicorn<0.22.0,>=0.21.0 in /usr/local/lib/python3.10/dist-packages (from concrete-ml) (0.21.1)\n",
            "Requirement already satisfied: xgboost==1.6.2 in /usr/local/lib/python3.10/dist-packages (from concrete-ml) (1.6.2)\n",
            "Requirement already satisfied: packaging in /usr/local/lib/python3.10/dist-packages (from brevitas==0.8.0->concrete-ml) (23.1)\n",
            "Requirement already satisfied: dependencies==2.0.1 in /usr/local/lib/python3.10/dist-packages (from brevitas==0.8.0->concrete-ml) (2.0.1)\n",
            "Requirement already satisfied: networkx>=2.6 in /usr/local/lib/python3.10/dist-packages (from concrete-python==1.0.0->concrete-ml) (3.1)\n",
            "Requirement already satisfied: dill in /usr/local/lib/python3.10/dist-packages (from hummingbird-ml[onnx]==0.4.8->concrete-ml) (0.3.6)\n",
            "Requirement already satisfied: onnxconverter-common>=1.6.0 in /usr/local/lib/python3.10/dist-packages (from hummingbird-ml[onnx]==0.4.8->concrete-ml) (1.13.0)\n",
            "Requirement already satisfied: psutil in /usr/local/lib/python3.10/dist-packages (from hummingbird-ml[onnx]==0.4.8->concrete-ml) (5.9.5)\n",
            "Requirement already satisfied: onnxmltools<=1.11.0,>=1.6.0 in /usr/local/lib/python3.10/dist-packages (from hummingbird-ml[onnx]==0.4.8->concrete-ml) (1.11.0)\n",
            "Requirement already satisfied: skl2onnx<=1.12.0,>=1.7.0 in /usr/local/lib/python3.10/dist-packages (from hummingbird-ml[onnx]==0.4.8->concrete-ml) (1.12)\n",
            "Requirement already satisfied: coloredlogs in /usr/local/lib/python3.10/dist-packages (from onnxruntime==1.13.1->concrete-ml) (15.0.1)\n",
            "Requirement already satisfied: flatbuffers in /usr/local/lib/python3.10/dist-packages (from onnxruntime==1.13.1->concrete-ml) (23.3.3)\n",
            "Requirement already satisfied: sympy in /usr/local/lib/python3.10/dist-packages (from onnxruntime==1.13.1->concrete-ml) (1.11.1)\n",
            "Requirement already satisfied: joblib>=1.0.0 in /usr/local/lib/python3.10/dist-packages (from scikit-learn==1.1.3->concrete-ml) (1.2.0)\n",
            "Requirement already satisfied: threadpoolctl>=2.0.0 in /usr/local/lib/python3.10/dist-packages (from scikit-learn==1.1.3->concrete-ml) (3.1.0)\n",
            "Requirement already satisfied: huggingface-hub>=0.10.1 in /usr/local/lib/python3.10/dist-packages (from skops==0.5.0->concrete-ml) (0.14.1)\n",
            "Requirement already satisfied: tabulate>=0.8.8 in /usr/local/lib/python3.10/dist-packages (from skops==0.5.0->concrete-ml) (0.8.10)\n",
            "Requirement already satisfied: nvidia-cuda-runtime-cu11==11.7.99 in /usr/local/lib/python3.10/dist-packages (from torch==1.13.1->concrete-ml) (11.7.99)\n",
            "Requirement already satisfied: nvidia-cudnn-cu11==8.5.0.96 in /usr/local/lib/python3.10/dist-packages (from torch==1.13.1->concrete-ml) (8.5.0.96)\n",
            "Requirement already satisfied: nvidia-cublas-cu11==11.10.3.66 in /usr/local/lib/python3.10/dist-packages (from torch==1.13.1->concrete-ml) (11.10.3.66)\n",
            "Requirement already satisfied: nvidia-cuda-nvrtc-cu11==11.7.99 in /usr/local/lib/python3.10/dist-packages (from torch==1.13.1->concrete-ml) (11.7.99)\n",
            "Requirement already satisfied: wheel in /usr/local/lib/python3.10/dist-packages (from nvidia-cublas-cu11==11.10.3.66->torch==1.13.1->concrete-ml) (0.40.0)\n",
            "Requirement already satisfied: filelock in /usr/local/lib/python3.10/dist-packages (from transformers) (3.12.0)\n",
            "Requirement already satisfied: pyyaml>=5.1 in /usr/local/lib/python3.10/dist-packages (from transformers) (6.0)\n",
            "Requirement already satisfied: regex!=2019.12.17 in /usr/local/lib/python3.10/dist-packages (from transformers) (2022.10.31)\n",
            "Requirement already satisfied: requests in /usr/local/lib/python3.10/dist-packages (from transformers) (2.27.1)\n",
            "Requirement already satisfied: tokenizers!=0.11.3,<0.14,>=0.11.1 in /usr/local/lib/python3.10/dist-packages (from transformers) (0.13.3)\n",
            "Requirement already satisfied: pyarrow>=8.0.0 in /usr/local/lib/python3.10/dist-packages (from datasets) (9.0.0)\n",
            "Requirement already satisfied: pandas in /usr/local/lib/python3.10/dist-packages (from datasets) (1.5.3)\n",
            "Requirement already satisfied: xxhash in /usr/local/lib/python3.10/dist-packages (from datasets) (3.2.0)\n",
            "Requirement already satisfied: multiprocess in /usr/local/lib/python3.10/dist-packages (from datasets) (0.70.14)\n",
            "Requirement already satisfied: fsspec[http]>=2021.11.1 in /usr/local/lib/python3.10/dist-packages (from datasets) (2023.4.0)\n",
            "Requirement already satisfied: aiohttp in /usr/local/lib/python3.10/dist-packages (from datasets) (3.8.4)\n",
            "Requirement already satisfied: responses<0.19 in /usr/local/lib/python3.10/dist-packages (from datasets) (0.18.0)\n",
            "Requirement already satisfied: botocore<1.30.0,>=1.29.140 in /usr/local/lib/python3.10/dist-packages (from boto3<2.0.0,>=1.23.5->concrete-ml) (1.29.140)\n",
            "Requirement already satisfied: jmespath<2.0.0,>=0.7.1 in /usr/local/lib/python3.10/dist-packages (from boto3<2.0.0,>=1.23.5->concrete-ml) (1.0.1)\n",
            "Requirement already satisfied: s3transfer<0.7.0,>=0.6.0 in /usr/local/lib/python3.10/dist-packages (from boto3<2.0.0,>=1.23.5->concrete-ml) (0.6.1)\n",
            "Requirement already satisfied: pydantic!=1.7,!=1.7.1,!=1.7.2,!=1.7.3,!=1.8,!=1.8.1,<2.0.0,>=1.6.2 in /usr/local/lib/python3.10/dist-packages (from fastapi<0.94.0,>=0.93.0->concrete-ml) (1.10.7)\n",
            "Requirement already satisfied: starlette<0.26.0,>=0.25.0 in /usr/local/lib/python3.10/dist-packages (from fastapi<0.94.0,>=0.93.0->concrete-ml) (0.25.0)\n",
            "Requirement already satisfied: attrs>=17.3.0 in /usr/local/lib/python3.10/dist-packages (from aiohttp->datasets) (23.1.0)\n",
            "Requirement already satisfied: charset-normalizer<4.0,>=2.0 in /usr/local/lib/python3.10/dist-packages (from aiohttp->datasets) (2.0.12)\n",
            "Requirement already satisfied: multidict<7.0,>=4.5 in /usr/local/lib/python3.10/dist-packages (from aiohttp->datasets) (6.0.4)\n",
            "Requirement already satisfied: async-timeout<5.0,>=4.0.0a3 in /usr/local/lib/python3.10/dist-packages (from aiohttp->datasets) (4.0.2)\n",
            "Requirement already satisfied: yarl<2.0,>=1.0 in /usr/local/lib/python3.10/dist-packages (from aiohttp->datasets) (1.9.2)\n",
            "Requirement already satisfied: frozenlist>=1.1.1 in /usr/local/lib/python3.10/dist-packages (from aiohttp->datasets) (1.3.3)\n",
            "Requirement already satisfied: aiosignal>=1.1.2 in /usr/local/lib/python3.10/dist-packages (from aiohttp->datasets) (1.3.1)\n",
            "Requirement already satisfied: urllib3<1.27,>=1.21.1 in /usr/local/lib/python3.10/dist-packages (from requests->transformers) (1.26.15)\n",
            "Requirement already satisfied: certifi>=2017.4.17 in /usr/local/lib/python3.10/dist-packages (from requests->transformers) (2022.12.7)\n",
            "Requirement already satisfied: idna<4,>=2.5 in /usr/local/lib/python3.10/dist-packages (from requests->transformers) (3.4)\n",
            "Requirement already satisfied: click>=7.0 in /usr/local/lib/python3.10/dist-packages (from uvicorn<0.22.0,>=0.21.0->concrete-ml) (8.1.3)\n",
            "Requirement already satisfied: h11>=0.8 in /usr/local/lib/python3.10/dist-packages (from uvicorn<0.22.0,>=0.21.0->concrete-ml) (0.14.0)\n",
            "Requirement already satisfied: python-dateutil>=2.8.1 in /usr/local/lib/python3.10/dist-packages (from pandas->datasets) (2.8.2)\n",
            "Requirement already satisfied: pytz>=2020.1 in /usr/local/lib/python3.10/dist-packages (from pandas->datasets) (2022.7.1)\n",
            "Requirement already satisfied: six>=1.5 in /usr/local/lib/python3.10/dist-packages (from python-dateutil>=2.8.1->pandas->datasets) (1.16.0)\n",
            "Requirement already satisfied: anyio<5,>=3.4.0 in /usr/local/lib/python3.10/dist-packages (from starlette<0.26.0,>=0.25.0->fastapi<0.94.0,>=0.93.0->concrete-ml) (3.6.2)\n",
            "Requirement already satisfied: humanfriendly>=9.1 in /usr/local/lib/python3.10/dist-packages (from coloredlogs->onnxruntime==1.13.1->concrete-ml) (10.0)\n",
            "Requirement already satisfied: mpmath>=0.19 in /usr/local/lib/python3.10/dist-packages (from sympy->onnxruntime==1.13.1->concrete-ml) (1.3.0)\n",
            "Requirement already satisfied: sniffio>=1.1 in /usr/local/lib/python3.10/dist-packages (from anyio<5,>=3.4.0->starlette<0.26.0,>=0.25.0->fastapi<0.94.0,>=0.93.0->concrete-ml) (1.3.0)\n",
            "Installing collected packages: setuptools\n",
            "  Attempting uninstall: setuptools\n",
            "    Found existing installation: setuptools 67.8.0\n",
            "    Uninstalling setuptools-67.8.0:\n",
            "      Successfully uninstalled setuptools-67.8.0\n",
            "\u001b[31mERROR: pip's dependency resolver does not currently take into account all the packages that are installed. This behaviour is the source of the following dependency conflicts.\n",
            "ipython 7.34.0 requires jedi>=0.16, which is not installed.\n",
            "torchaudio 2.0.2+cu118 requires torch==2.0.1, but you have torch 1.13.1 which is incompatible.\n",
            "torchdata 0.6.1 requires torch==2.0.1, but you have torch 1.13.1 which is incompatible.\n",
            "torchtext 0.15.2 requires torch==2.0.1, but you have torch 1.13.1 which is incompatible.\n",
            "torchvision 0.15.2+cu118 requires torch==2.0.1, but you have torch 1.13.1 which is incompatible.\u001b[0m\u001b[31m\n",
            "\u001b[0mSuccessfully installed setuptools-65.6.3\n"
          ]
        },
        {
          "output_type": "display_data",
          "data": {
            "application/vnd.colab-display-data+json": {
              "pip_warning": {
                "packages": [
                  "_distutils_hack",
                  "pkg_resources",
                  "setuptools"
                ]
              }
            }
          },
          "metadata": {}
        }
      ]
    },
    {
      "cell_type": "markdown",
      "source": [
        "## Prepare"
      ],
      "metadata": {
        "id": "40aU4f-PoHnR"
      },
      "id": "40aU4f-PoHnR"
    },
    {
      "cell_type": "code",
      "source": [
        "! pip install transformers"
      ],
      "metadata": {
        "colab": {
          "base_uri": "https://localhost:8080/"
        },
        "id": "9uT05-W-oVGh",
        "outputId": "908bd81c-b717-4502-e7fe-e3201e62432f"
      },
      "id": "9uT05-W-oVGh",
      "execution_count": null,
      "outputs": [
        {
          "output_type": "stream",
          "name": "stdout",
          "text": [
            "Looking in indexes: https://pypi.org/simple, https://us-python.pkg.dev/colab-wheels/public/simple/\n",
            "Requirement already satisfied: transformers in /usr/local/lib/python3.10/dist-packages (4.29.2)\n",
            "Requirement already satisfied: filelock in /usr/local/lib/python3.10/dist-packages (from transformers) (3.12.0)\n",
            "Requirement already satisfied: huggingface-hub<1.0,>=0.14.1 in /usr/local/lib/python3.10/dist-packages (from transformers) (0.14.1)\n",
            "Requirement already satisfied: numpy>=1.17 in /usr/local/lib/python3.10/dist-packages (from transformers) (1.23.5)\n",
            "Requirement already satisfied: packaging>=20.0 in /usr/local/lib/python3.10/dist-packages (from transformers) (23.1)\n",
            "Requirement already satisfied: pyyaml>=5.1 in /usr/local/lib/python3.10/dist-packages (from transformers) (6.0)\n",
            "Requirement already satisfied: regex!=2019.12.17 in /usr/local/lib/python3.10/dist-packages (from transformers) (2022.10.31)\n",
            "Requirement already satisfied: requests in /usr/local/lib/python3.10/dist-packages (from transformers) (2.27.1)\n",
            "Requirement already satisfied: tokenizers!=0.11.3,<0.14,>=0.11.1 in /usr/local/lib/python3.10/dist-packages (from transformers) (0.13.3)\n",
            "Requirement already satisfied: tqdm>=4.27 in /usr/local/lib/python3.10/dist-packages (from transformers) (4.65.0)\n",
            "Requirement already satisfied: fsspec in /usr/local/lib/python3.10/dist-packages (from huggingface-hub<1.0,>=0.14.1->transformers) (2023.4.0)\n",
            "Requirement already satisfied: typing-extensions>=3.7.4.3 in /usr/local/lib/python3.10/dist-packages (from huggingface-hub<1.0,>=0.14.1->transformers) (4.4.0)\n",
            "Requirement already satisfied: urllib3<1.27,>=1.21.1 in /usr/local/lib/python3.10/dist-packages (from requests->transformers) (1.26.15)\n",
            "Requirement already satisfied: certifi>=2017.4.17 in /usr/local/lib/python3.10/dist-packages (from requests->transformers) (2022.12.7)\n",
            "Requirement already satisfied: charset-normalizer~=2.0.0 in /usr/local/lib/python3.10/dist-packages (from requests->transformers) (2.0.12)\n",
            "Requirement already satisfied: idna<4,>=2.5 in /usr/local/lib/python3.10/dist-packages (from requests->transformers) (3.4)\n"
          ]
        }
      ]
    },
    {
      "cell_type": "code",
      "execution_count": null,
      "id": "listed-lafayette",
      "metadata": {
        "id": "listed-lafayette"
      },
      "outputs": [],
      "source": [
        "import pandas as pd\n",
        "import numpy as np\n",
        "import os\n",
        "import gc\n",
        "from tqdm import tqdm\n",
        "import random\n",
        "from collections import Counter\n",
        "from IPython.display import display\n",
        "\n",
        "\n",
        "import torch\n",
        "import torch.nn as nn\n",
        "from torch.utils.data import DataLoader, Dataset\n",
        "from transformers import BertTokenizerFast, AutoModel\n",
        "from transformers import AdamW, get_linear_schedule_with_warmup\n",
        "from sklearn.model_selection import StratifiedKFold"
      ]
    },
    {
      "cell_type": "code",
      "execution_count": null,
      "id": "prerequisite-money",
      "metadata": {
        "colab": {
          "base_uri": "https://localhost:8080/",
          "height": 266,
          "referenced_widgets": [
            "a718e5af22e64503a1957b94e6870402",
            "dcb171a47da74f50afa1a5e07d2ec379",
            "f8951a8c09944901adf4f920622edb7e",
            "0249f5c3138940fea9d917dd0ba5a090",
            "6886db29f2b64d86b605be7122272f0b",
            "169368f736e84755bfe8b60410cf279c",
            "ee66531277e84726b51e48d8974bcf40",
            "f528dcb35a9e4cd98433cbb7963004fd",
            "a1a7efe8ede84242a39f73835ff7b9b1",
            "552baf5ee10d4c70894dc51595f80315",
            "74a82e4c019d497ba542fb80151d52de",
            "3e61c8bdc7c24edcafd54de835e98297",
            "5e4d4bd0a844467c8f1e2225243239c8",
            "6eff7c847f034f14a3bb42d3c19c82fa",
            "100e33e8c0884956a917f616ddb5e3db",
            "867153eeed0c427a9f8aee3b66be3c68",
            "cee721cbebb641f2bb975767d11727da",
            "7ce6cf82678f4adaa1ba96230cff05dd",
            "5a0f3f3b3c144558a942ccde8ac593f9",
            "567c947b4a1542909fbfd352ca29554f",
            "9308028ca2854a98825f1e26935d569f",
            "26162bce83fa4be5a93d295b56d38824",
            "db429edec30b40b4a811c22cae662b48",
            "fbf1c0f084c046f580a55b15a5282493",
            "2a812a07b37a4f5f93985ce807f2f591",
            "19f3e376ed4c4ebaa0bb7fb8cc4de212",
            "9725d39d5b284f5c85dfbefaa27c5a00",
            "e64573528dc1426c86508a6792cab34e",
            "294a3a414ddb479fb1f8cc04bf1d81cb",
            "6aa46890e9bf48e78f9c279af3d0c8f2",
            "b364dbee3652408babf1439ac9b80f3e",
            "35704292df95441fa10ff8664b68ac3b",
            "c323cb7ba9284901ac13e83f471a7113",
            "c3514f7d03c2451dbbeb694c6738c1ba",
            "66bdef3f83934d8ea5beab6d905e4390",
            "4771f429882b46329878fdfbdb24cf67",
            "2f2a5f83e12444499149a32ea73adc75",
            "385f4eae8cf242df9315b3cb1b515683",
            "172e36795e7547e493de8fba6a44e416",
            "21ffae07fc6940e9bcac1456276182b0",
            "b35d91237df14a73b0f67402523f9f63",
            "e97aa2847538457fa309999dccb30e08",
            "5a7ccf0abbc94b95a84eb98a0fd1f1e6",
            "0d71bc9ebeb446acb6a4e14af88292bc",
            "1713894d715b469a9fd9c8378377a171",
            "a5d248de7eef4667ac0ea4aa23186ca4",
            "9314885129df4c0b91a8654997e370e9",
            "08aaab29a5404b32b47a2fc94b23b8fa",
            "63e2b74b9fc143d09bdd687fd76f0e6f",
            "72cef14d2af64be7abf0051795e84671",
            "b5ecaeac83144a06bd34bc8a4dc750de",
            "454cbe5491ae40bd9995023810d81364",
            "ee0f0a77ca8148f78121b9ea4957e617",
            "f03116cefbd04f08914c44b383d5265d",
            "2d3bca55865b42e2812b9ee8e55730b1"
          ]
        },
        "id": "prerequisite-money",
        "outputId": "52be3fca-7c3c-4143-c36e-ef7682111bbb"
      },
      "outputs": [
        {
          "output_type": "stream",
          "name": "stdout",
          "text": [
            "cuda:0\n"
          ]
        },
        {
          "output_type": "display_data",
          "data": {
            "text/plain": [
              "Downloading (…)okenizer_config.json:   0%|          | 0.00/29.0 [00:00<?, ?B/s]"
            ],
            "application/vnd.jupyter.widget-view+json": {
              "version_major": 2,
              "version_minor": 0,
              "model_id": "a718e5af22e64503a1957b94e6870402"
            }
          },
          "metadata": {}
        },
        {
          "output_type": "display_data",
          "data": {
            "text/plain": [
              "Downloading (…)solve/main/vocab.txt:   0%|          | 0.00/213k [00:00<?, ?B/s]"
            ],
            "application/vnd.jupyter.widget-view+json": {
              "version_major": 2,
              "version_minor": 0,
              "model_id": "3e61c8bdc7c24edcafd54de835e98297"
            }
          },
          "metadata": {}
        },
        {
          "output_type": "display_data",
          "data": {
            "text/plain": [
              "Downloading (…)/main/tokenizer.json:   0%|          | 0.00/436k [00:00<?, ?B/s]"
            ],
            "application/vnd.jupyter.widget-view+json": {
              "version_major": 2,
              "version_minor": 0,
              "model_id": "db429edec30b40b4a811c22cae662b48"
            }
          },
          "metadata": {}
        },
        {
          "output_type": "display_data",
          "data": {
            "text/plain": [
              "Downloading (…)lve/main/config.json:   0%|          | 0.00/570 [00:00<?, ?B/s]"
            ],
            "application/vnd.jupyter.widget-view+json": {
              "version_major": 2,
              "version_minor": 0,
              "model_id": "c3514f7d03c2451dbbeb694c6738c1ba"
            }
          },
          "metadata": {}
        },
        {
          "output_type": "display_data",
          "data": {
            "text/plain": [
              "Downloading pytorch_model.bin:   0%|          | 0.00/436M [00:00<?, ?B/s]"
            ],
            "application/vnd.jupyter.widget-view+json": {
              "version_major": 2,
              "version_minor": 0,
              "model_id": "1713894d715b469a9fd9c8378377a171"
            }
          },
          "metadata": {}
        },
        {
          "output_type": "stream",
          "name": "stderr",
          "text": [
            "Some weights of the model checkpoint at bert-base-cased were not used when initializing BertModel: ['cls.predictions.transform.LayerNorm.weight', 'cls.seq_relationship.weight', 'cls.predictions.transform.LayerNorm.bias', 'cls.predictions.decoder.weight', 'cls.predictions.transform.dense.bias', 'cls.predictions.transform.dense.weight', 'cls.predictions.bias', 'cls.seq_relationship.bias']\n",
            "- This IS expected if you are initializing BertModel from the checkpoint of a model trained on another task or with another architecture (e.g. initializing a BertForSequenceClassification model from a BertForPreTraining model).\n",
            "- This IS NOT expected if you are initializing BertModel from the checkpoint of a model that you expect to be exactly identical (initializing a BertForSequenceClassification model from a BertForSequenceClassification model).\n"
          ]
        }
      ],
      "source": [
        "device = torch.device('cuda', 0) if torch.cuda.is_available() else 'cpu'\n",
        "print(device)\n",
        "\n",
        "# BERT Tokenizer: 使用 'bert-base-cased' 版本\n",
        "tokenizer = BertTokenizerFast.from_pretrained('bert-base-cased')\n",
        "\n",
        "# BERT Model: 使用 'bert-base-cased' 版本\n",
        "bert = AutoModel.from_pretrained('bert-base-cased').to(device)"
      ]
    },
    {
      "cell_type": "code",
      "execution_count": null,
      "id": "defined-arbitration",
      "metadata": {
        "id": "defined-arbitration"
      },
      "outputs": [],
      "source": [
        "# config\n",
        "config = {\"embedding_path\": \"embedding_tensor.pt\",\n",
        "          \"seed\": 168,\n",
        "          \"learning_rate\": 3e-4,\n",
        "          \"batch_size\": 64,\n",
        "          \"epochs\": 300}"
      ]
    },
    {
      "cell_type": "code",
      "execution_count": null,
      "id": "entire-drunk",
      "metadata": {
        "id": "entire-drunk"
      },
      "outputs": [],
      "source": [
        "def set_random_seed(seed, deterministic=False):\n",
        "    random.seed(seed)\n",
        "    np.random.seed(seed)\n",
        "\n",
        "set_random_seed(config[\"seed\"])"
      ]
    },
    {
      "cell_type": "markdown",
      "id": "smoking-daughter",
      "metadata": {
        "id": "smoking-daughter"
      },
      "source": [
        "## Data preparation"
      ]
    },
    {
      "cell_type": "code",
      "execution_count": null,
      "id": "hazardous-rabbit",
      "metadata": {
        "colab": {
          "base_uri": "https://localhost:8080/"
        },
        "id": "hazardous-rabbit",
        "outputId": "84ae9a14-b992-4cd2-b30f-03694896d4cf"
      },
      "outputs": [
        {
          "output_type": "stream",
          "name": "stdout",
          "text": [
            "size of training set: 11314\n",
            "size of validation set: 7532\n",
            "classes: ['alt.atheism', 'comp.graphics', 'comp.os.ms-windows.misc', 'comp.sys.ibm.pc.hardware', 'comp.sys.mac.hardware', 'comp.windows.x', 'misc.forsale', 'rec.autos', 'rec.motorcycles', 'rec.sport.baseball', 'rec.sport.hockey', 'sci.crypt', 'sci.electronics', 'sci.med', 'sci.space', 'soc.religion.christian', 'talk.politics.guns', 'talk.politics.mideast', 'talk.politics.misc', 'talk.religion.misc']\n"
          ]
        }
      ],
      "source": [
        "from numpy.lib.shape_base import apply_along_axis\n",
        "# fetch the dataset using scikit-learn\n",
        "import sklearn\n",
        "from sklearn.datasets import fetch_20newsgroups\n",
        "train_b = fetch_20newsgroups(subset='train', shuffle=True, random_state=42)\n",
        "test_b = fetch_20newsgroups(subset='test', shuffle=True, random_state=42)\n",
        "all_data = fetch_20newsgroups(subset='all', shuffle=True, random_state=42)\n",
        "\n",
        "print('size of training set: %s' % (len(train_b['data'])))\n",
        "print('size of validation set: %s' % (len(test_b['data'])))\n",
        "print('classes: %s' % (train_b.target_names))\n",
        "\n",
        "x_train = train_b.data\n",
        "y_train = train_b.target\n",
        "x_test = test_b.data\n",
        "y_test = test_b.target"
      ]
    },
    {
      "cell_type": "code",
      "source": [
        "print(y_train)"
      ],
      "metadata": {
        "colab": {
          "base_uri": "https://localhost:8080/"
        },
        "id": "9PrfdSFSbdwT",
        "outputId": "5c8462ba-fcee-4360-c653-d1325d48e612"
      },
      "id": "9PrfdSFSbdwT",
      "execution_count": null,
      "outputs": [
        {
          "output_type": "stream",
          "name": "stdout",
          "text": [
            "[7 4 4 ... 3 1 8]\n"
          ]
        }
      ]
    },
    {
      "cell_type": "markdown",
      "id": "close-microwave",
      "metadata": {
        "id": "close-microwave"
      },
      "source": [
        "## BERT Embedding"
      ]
    },
    {
      "cell_type": "code",
      "execution_count": null,
      "id": "neural-miller",
      "metadata": {
        "id": "neural-miller"
      },
      "outputs": [],
      "source": [
        "def get_embedding_tensor(context_ary):\n",
        "\n",
        "    embedding_tensor = torch.ones((context_ary.shape[0], 768))\n",
        "\n",
        "\n",
        "    for i in range(context_ary.shape[0]):\n",
        "\n",
        "        context = context_ary[i]\n",
        "        bert_input = tokenizer(context, padding='max_length', max_length=512,\n",
        "                               truncation=True, return_tensors=\"pt\")\n",
        "\n",
        "\n",
        "        attention_mask = bert_input['attention_mask'].to(device)\n",
        "        input_id = bert_input['input_ids'].squeeze(1).to(device)\n",
        "        final_inputs = {'input_ids': input_id, 'attention_mask': attention_mask}\n",
        "        outputs = bert(**final_inputs)\n",
        "\n",
        "        ## Only the embedding vector of [CLS] is taken\n",
        "        pooler_output = outputs.last_hidden_state[0][0].reshape(768)\n",
        "        embedding_tensor[i] = pooler_output.detach().cpu()\n",
        "\n",
        "        gc.collect()\n",
        "        torch.cuda.empty_cache()\n",
        "\n",
        "    return embedding_tensor"
      ]
    },
    {
      "cell_type": "code",
      "execution_count": null,
      "id": "american-recognition",
      "metadata": {
        "id": "american-recognition"
      },
      "outputs": [],
      "source": [
        "# 計算每個樣本各自的 BERT Embedding\n",
        "train_context_ary = np.array(x_train)\n",
        "train_embedding = get_embedding_tensor(train_context_ary)\n",
        "\n",
        "test_context_ary = np.array(x_test)\n",
        "test_embedding = get_embedding_tensor(test_context_ary)"
      ]
    },
    {
      "cell_type": "markdown",
      "source": [
        "## Logistic Regression\n",
        "\n",
        "follow by https://docs.zama.ai/concrete-ml/advanced-topics/prediction_with_fhe\n"
      ],
      "metadata": {
        "id": "TnMsgsD7qk54"
      },
      "id": "TnMsgsD7qk54"
    },
    {
      "cell_type": "code",
      "source": [
        "## https://docs.zama.ai/concrete-ml/advanced-topics/prediction_with_fhe\n",
        "from concrete.ml.sklearn import LogisticRegression\n",
        "import time\n",
        "\n",
        "# Instantiate and train the model\n",
        "model = LogisticRegression()\n",
        "model.fit(train_embedding, y_train)\n",
        "\n",
        "# Simulate the predictions in the clear\n",
        "start = time.perf_counter()\n",
        "y_pred_clear = model.predict(test_embedding)\n",
        "end = time.perf_counter()\n",
        "print(f\"LR computing time: {end - start:.4f} seconds\")\n",
        "\n",
        "# Compile the model on a representative set\n",
        "start = time.perf_counter()\n",
        "fhe_circuit = model.compile(train_embedding)\n",
        "end = time.perf_counter()\n",
        "print(f\"Compilation time: {end - start:.4f} seconds\")\n",
        "\n",
        "# Predict in FHE\n",
        "start = time.perf_counter()\n",
        "y_pred_fhe = model.predict(test_embedding, fhe=\"execute\")\n",
        "end = time.perf_counter()\n",
        "fhe_exec_time = end - start\n",
        "print(f\"FHE inference time: {fhe_exec_time:.4f} seconds\")"
      ],
      "metadata": {
        "colab": {
          "base_uri": "https://localhost:8080/"
        },
        "id": "GXRsizv8qj7X",
        "outputId": "b364936a-3253-43bb-c3f2-c2bbeb737980"
      },
      "id": "GXRsizv8qj7X",
      "execution_count": null,
      "outputs": [
        {
          "output_type": "stream",
          "name": "stdout",
          "text": [
            "LR computing time: 0.1351 seconds\n",
            "Compilation time: 3.8561 seconds\n",
            "FHE inference time: 880.2507 seconds\n"
          ]
        }
      ]
    },
    {
      "cell_type": "code",
      "source": [
        "from sklearn.metrics import accuracy_score, precision_score, f1_score, recall_score, classification_report\n",
        "\n",
        "# accuracy_score\n",
        "print(f\"accuracy_score: {accuracy_score(y_test, y_pred_clear)}\")\n",
        "\n",
        "# precision, recall, f1-score\n",
        "print(f\"Micro precision: {precision_score(y_test, y_pred_clear, average='micro')}\")\n",
        "print(f\"Micro recall: {recall_score(y_test, y_pred_clear, average='micro')}\")\n",
        "print(f\"Micro f1-score: {f1_score(y_test, y_pred_clear, average='micro')}\")\n",
        "\n",
        "print(f\"Macro precision: {precision_score(y_test, y_pred_clear, average='macro')}\")\n",
        "print(f\"Macro recall: {recall_score(y_test, y_pred_clear, average='macro')}\")\n",
        "print(f\"Macro f1-score: {f1_score(y_test, y_pred_clear, average='macro')}\")\n",
        "\n",
        "\n",
        "# FHE\n",
        "print()\n",
        "print(\"FHE:\")\n",
        "print(f\"accuracy_score FHE: {accuracy_score(y_test, y_pred_fhe)}\")\n",
        "print(f\"Micro precision FHE: {precision_score(y_test, y_pred_fhe, average='micro')}\")\n",
        "print(f\"Micro recall FHE: {recall_score(y_test, y_pred_fhe, average='micro')}\")\n",
        "print(f\"Micro f1-score FHE: {f1_score(y_test, y_pred_fhe, average='micro')}\")\n",
        "\n",
        "print(f\"Macro precision FHE: {precision_score(y_test, y_pred_fhe, average='macro')}\")\n",
        "print(f\"Macro recall FHE: {recall_score(y_test, y_pred_fhe, average='macro')}\")\n",
        "print(f\"Macro f1-score FHE: {f1_score(y_test, y_pred_fhe, average='macro')}\")\n",
        "\n",
        "\n",
        "# difference between with or not FHE\n",
        "print()\n",
        "print(\"Loss\")\n",
        "print(f\"accuracy_score Loss: {accuracy_score(y_test, y_pred_clear) - accuracy_score(y_test, y_pred_fhe)}\")\n",
        "print(f\"Micro precision Loss: {precision_score(y_test, y_pred_clear, average='micro') - precision_score(y_test, y_pred_fhe, average='micro')}\")\n",
        "print(f\"Micro recall Loss: {recall_score(y_test, y_pred_clear, average='micro') - recall_score(y_test, y_pred_fhe, average='micro')}\")\n",
        "print(f\"Micro f1-score Loss: {f1_score(y_test, y_pred_clear, average='micro') - f1_score(y_test, y_pred_fhe, average='micro')}\")\n",
        "print(f\"Macro precision Loss: {precision_score(y_test, y_pred_clear, average='macro') - precision_score(y_test, y_pred_fhe, average='macro')}\")\n",
        "print(f\"Macro recall Loss: {recall_score(y_test, y_pred_clear, average='macro') - recall_score(y_test, y_pred_fhe, average='macro')}\")\n",
        "print(f\"Macro f1-score Loss: {f1_score(y_test, y_pred_clear, average='macro') - f1_score(y_test, y_pred_fhe, average='macro')}\")"
      ],
      "metadata": {
        "id": "S5MjM3S6-MOT",
        "colab": {
          "base_uri": "https://localhost:8080/"
        },
        "outputId": "34a2a214-7de2-41d6-f774-44579c124b1b"
      },
      "id": "S5MjM3S6-MOT",
      "execution_count": null,
      "outputs": [
        {
          "output_type": "stream",
          "name": "stdout",
          "text": [
            "accuracy_score: 0.5881571959638874\n",
            "Micro precision: 0.5881571959638874\n",
            "Micro recall: 0.5881571959638874\n",
            "Micro f1-score: 0.5881571959638874\n",
            "Macro precision: 0.5772017450645885\n",
            "Macro recall: 0.5787441474653143\n",
            "Macro f1-score: 0.5762018842834304\n",
            "\n",
            "FHE:\n",
            "accuracy_score FHE: 0.5881571959638874\n",
            "Micro precision FHE: 0.5881571959638874\n",
            "Micro recall FHE: 0.5881571959638874\n",
            "Micro f1-score FHE: 0.5881571959638874\n",
            "Macro precision FHE: 0.5772017450645885\n",
            "Macro recall FHE: 0.5787441474653143\n",
            "Macro f1-score FHE: 0.5762018842834304\n",
            "\n",
            "Loss\n",
            "accuracy_score Loss: 0.0\n",
            "Micro precision Loss: 0.0\n",
            "Micro recall Loss: 0.0\n",
            "Micro f1-score Loss: 0.0\n",
            "Macro precision Loss: 0.0\n",
            "Macro recall Loss: 0.0\n",
            "Macro f1-score Loss: 0.0\n"
          ]
        }
      ]
    },
    {
      "cell_type": "markdown",
      "source": [
        "# By XGBoost\n",
        "\n",
        "程式運作時間過長"
      ],
      "metadata": {
        "id": "3qEebp88s8FW"
      },
      "id": "3qEebp88s8FW"
    },
    {
      "cell_type": "markdown",
      "source": [
        "## Classifying with XGBoost"
      ],
      "metadata": {
        "id": "sveLaSB7rr6u"
      },
      "id": "sveLaSB7rr6u"
    },
    {
      "cell_type": "code",
      "source": [
        "\"\"\"\n",
        "from concrete.ml.sklearn import XGBClassifier\n",
        "from sklearn.model_selection import GridSearchCV\n",
        "# Let's build our model\n",
        "model = XGBClassifier()\n",
        "model.fit(train_embedding_tensor, y_train)\n",
        "# A gridsearch to find the best parameters\n",
        "parameters = {\n",
        "    \"n_bits\": [2, 3],\n",
        "    \"max_depth\": [1],\n",
        "    \"n_estimators\": [10, 30, 50],\n",
        "    \"n_jobs\": [-1],\n",
        "}\n",
        "\n",
        "# Now we have a representation for each tweet, we can train a model on these.\n",
        "grid_search = GridSearchCV(model, parameters, cv=5, n_jobs=5, scoring=\"accuracy\")\n",
        "grid_search.fit(train_embedding_tensor, y_train)\n",
        "\n",
        "# Check the accuracy of the best model\n",
        "print(f\"Best score: {grid_search.best_score_}\")\n",
        "\n",
        "# Check best hyperparameters\n",
        "print(f\"Best parameters: {grid_search.best_params_}\")\n",
        "\n",
        "# Extract best model\n",
        "best_model = grid_search.best_estimator_\n",
        "\"\"\""
      ],
      "metadata": {
        "id": "2zoBnfABrLkT",
        "colab": {
          "base_uri": "https://localhost:8080/",
          "height": 105
        },
        "outputId": "9a74f443-0d39-4d5a-89da-7a99ef3abae5"
      },
      "execution_count": null,
      "outputs": [
        {
          "output_type": "execute_result",
          "data": {
            "text/plain": [
              "'\\nfrom concrete.ml.sklearn import XGBClassifier\\nfrom sklearn.model_selection import GridSearchCV\\n# Let\\'s build our model\\nmodel = XGBClassifier()\\nmodel.fit(train_embedding_tensor, y_train)\\n# A gridsearch to find the best parameters\\nparameters = {\\n    \"n_bits\": [2, 3],\\n    \"max_depth\": [1],\\n    \"n_estimators\": [10, 30, 50],\\n    \"n_jobs\": [-1],\\n}\\n\\n# Now we have a representation for each tweet, we can train a model on these.\\ngrid_search = GridSearchCV(model, parameters, cv=5, n_jobs=5, scoring=\"accuracy\")\\ngrid_search.fit(train_embedding_tensor, y_train)\\n\\n# Check the accuracy of the best model\\nprint(f\"Best score: {grid_search.best_score_}\")\\n\\n# Check best hyperparameters\\nprint(f\"Best parameters: {grid_search.best_params_}\")\\n\\n# Extract best model\\nbest_model = grid_search.best_estimator_\\n'"
            ],
            "application/vnd.google.colaboratory.intrinsic+json": {
              "type": "string"
            }
          },
          "metadata": {},
          "execution_count": 15
        }
      ],
      "id": "2zoBnfABrLkT"
    },
    {
      "cell_type": "markdown",
      "source": [
        "## Predicting over encrypted data"
      ],
      "metadata": {
        "id": "r0W40rXArujY"
      },
      "id": "r0W40rXArujY"
    },
    {
      "cell_type": "code",
      "source": [
        "\"\"\"\n",
        "import time\n",
        "# Compute the metrics on the test set\n",
        "y_pred = best_model.predict(test_embedding_tensor)\n",
        "\n",
        "# Compile the model to get the FHE inference engine\n",
        "# (this may take a few minutes depending on the selected model)\n",
        "start = time.perf_counter()\n",
        "best_model.compile(train_embedding_tensor)\n",
        "end = time.perf_counter()\n",
        "print(f\"Compilation time: {end - start:.4f} seconds\")\n",
        "\n",
        "# Now let's predict with FHE over a single tweet and print the time it takes\n",
        "start = time.perf_counter()\n",
        "decrypted_predic = best_model.predict(test_embedding_tensor, fhe=\"execute\")\n",
        "end = time.perf_counter()\n",
        "fhe_exec_time = end - start\n",
        "print(f\"FHE inference time: {fhe_exec_time:.4f} seconds\")\n",
        "\n",
        "y_pred_HE = decrypted_predic\n",
        "\"\"\""
      ],
      "metadata": {
        "id": "N_akBOLkrPUY",
        "colab": {
          "base_uri": "https://localhost:8080/",
          "height": 88
        },
        "outputId": "c7c15b26-db88-43d8-c6a9-7a0c97e17b11"
      },
      "execution_count": null,
      "outputs": [
        {
          "output_type": "execute_result",
          "data": {
            "text/plain": [
              "'\\nimport time\\n# Compute the metrics on the test set\\ny_pred = best_model.predict(test_embedding_tensor)\\n\\n# Compile the model to get the FHE inference engine\\n# (this may take a few minutes depending on the selected model)\\nstart = time.perf_counter()\\nbest_model.compile(train_embedding_tensor)\\nend = time.perf_counter()\\nprint(f\"Compilation time: {end - start:.4f} seconds\")\\n\\n# Now let\\'s predict with FHE over a single tweet and print the time it takes\\nstart = time.perf_counter()\\ndecrypted_predic = best_model.predict(test_embedding_tensor, fhe=\"execute\")\\nend = time.perf_counter()\\nfhe_exec_time = end - start\\nprint(f\"FHE inference time: {fhe_exec_time:.4f} seconds\")\\n\\ny_pred_HE = decrypted_predic\\n'"
            ],
            "application/vnd.google.colaboratory.intrinsic+json": {
              "type": "string"
            }
          },
          "metadata": {},
          "execution_count": 16
        }
      ],
      "id": "N_akBOLkrPUY"
    },
    {
      "cell_type": "code",
      "source": [
        "\"\"\"\n",
        "# accuracy_score\n",
        "print(f\"accuracy_score: {accuracy_score(y_test, y_pred_clear)}\")\n",
        "\n",
        "# precision, recall, f1-score\n",
        "print(f\"Micro precision: {precision_score(y_test, y_pred_clear, average='micro')}\")\n",
        "print(f\"Micro recall: {recall_score(y_test, y_pred_clear, average='micro')}\")\n",
        "print(f\"Micro f1-score: {f1_score(y_test, y_pred_clear, average='micro')}\")\n",
        "\n",
        "print(f\"Macro precision: {precision_score(y_test, y_pred_clear, average='macro')}\")\n",
        "print(f\"Macro recall: {recall_score(y_test, y_pred_clear, average='macro')}\")\n",
        "print(f\"Macro f1-score: {f1_score(y_test, y_pred_clear, average='macro')}\")\n",
        "\n",
        "\n",
        "# FHE\n",
        "print()\n",
        "print(\"FHE:\")\n",
        "print(f\"accuracy_score FHE: {accuracy_score(y_test, y_pred_fhe)}\")\n",
        "print(f\"Micro precision FHE: {precision_score(y_test, y_pred_fhe, average='micro')}\")\n",
        "print(f\"Micro recall FHE: {recall_score(y_test, y_pred_fhe, average='micro')}\")\n",
        "print(f\"Micro f1-score FHE: {f1_score(y_test, y_pred_fhe, average='micro')}\")\n",
        "\n",
        "print(f\"Macro precision FHE: {precision_score(y_test, y_pred_fhe, average='macro')}\")\n",
        "print(f\"Macro recall FHE: {recall_score(y_test, y_pred_fhe, average='macro')}\")\n",
        "print(f\"Macro f1-score FHE: {f1_score(y_test, y_pred_fhe, average='macro')}\")\n",
        "\n",
        "\n",
        "# difference between with or not FHE\n",
        "print()\n",
        "print(\"Loss\")\n",
        "print(f\"accuracy_score Loss: {accuracy_score(y_test, y_pred_clear) - accuracy_score(y_test, y_pred_fhe)}\")\n",
        "print(f\"Micro precision Loss: {precision_score(y_test, y_pred_clear, average='micro') - precision_score(y_test, y_pred_fhe, average='micro')}\")\n",
        "print(f\"Micro recall Loss: {recall_score(y_test, y_pred_clear, average='micro') - recall_score(y_test, y_pred_fhe, average='micro')}\")\n",
        "print(f\"Micro f1-score Loss: {f1_score(y_test, y_pred_clear, average='micro') - f1_score(y_test, y_pred_fhe, average='micro')}\")\n",
        "print(f\"Macro precision Loss: {precision_score(y_test, y_pred_clear, average='macro') - precision_score(y_test, y_pred_fhe, average='macro')}\")\n",
        "print(f\"Macro recall Loss: {recall_score(y_test, y_pred_clear, average='macro') - recall_score(y_test, y_pred_fhe, average='macro')}\")\n",
        "print(f\"Macro f1-score Loss: {f1_score(y_test, y_pred_clear, average='macro') - f1_score(y_test, y_pred_fhe, average='macro')}\")\n",
        "\"\"\""
      ],
      "metadata": {
        "id": "37DHBPSHR6qY",
        "colab": {
          "base_uri": "https://localhost:8080/",
          "height": 123
        },
        "outputId": "7408e85c-7238-489c-929e-92b2ee9f2294"
      },
      "execution_count": null,
      "outputs": [
        {
          "output_type": "execute_result",
          "data": {
            "text/plain": [
              "'\\n# accuracy_score\\nprint(f\"accuracy_score: {accuracy_score(y_test, y_pred_clear)}\")\\n\\n# precision, recall, f1-score\\nprint(f\"Micro precision: {precision_score(y_test, y_pred_clear, average=\\'micro\\')}\")\\nprint(f\"Micro recall: {recall_score(y_test, y_pred_clear, average=\\'micro\\')}\")\\nprint(f\"Micro f1-score: {f1_score(y_test, y_pred_clear, average=\\'micro\\')}\")\\n\\nprint(f\"Macro precision: {precision_score(y_test, y_pred_clear, average=\\'macro\\')}\")\\nprint(f\"Macro recall: {recall_score(y_test, y_pred_clear, average=\\'macro\\')}\")\\nprint(f\"Macro f1-score: {f1_score(y_test, y_pred_clear, average=\\'macro\\')}\")\\n\\n\\n# FHE\\nprint()\\nprint(\"FHE:\")\\nprint(f\"accuracy_score FHE: {accuracy_score(y_test, y_pred_fhe)}\")\\nprint(f\"Micro precision FHE: {precision_score(y_test, y_pred_fhe, average=\\'micro\\')}\")\\nprint(f\"Micro recall FHE: {recall_score(y_test, y_pred_fhe, average=\\'micro\\')}\")\\nprint(f\"Micro f1-score FHE: {f1_score(y_test, y_pred_fhe, average=\\'micro\\')}\")\\n\\nprint(f\"Macro precision FHE: {precision_score(y_test, y_pred_fhe, average=\\'macro\\')}\")\\nprint(f\"Macro recall FHE: {recall_score(y_test, y_pred_fhe, average=\\'macro\\')}\")\\nprint(f\"Macro f1-score FHE: {f1_score(y_test, y_pred_fhe, average=\\'macro\\')}\")\\n\\n\\n# difference between with or not FHE\\nprint()\\nprint(\"Loss\")\\nprint(f\"accuracy_score Loss: {accuracy_score(y_test, y_pred_clear) - accuracy_score(y_test, y_pred_fhe)}\")\\nprint(f\"Micro precision Loss: {precision_score(y_test, y_pred_clear, average=\\'micro\\') - precision_score(y_test, y_pred_fhe, average=\\'micro\\')}\")\\nprint(f\"Micro recall Loss: {recall_score(y_test, y_pred_clear, average=\\'micro\\') - recall_score(y_test, y_pred_fhe, average=\\'micro\\')}\")\\nprint(f\"Micro f1-score Loss: {f1_score(y_test, y_pred_clear, average=\\'micro\\') - f1_score(y_test, y_pred_fhe, average=\\'micro\\')}\")\\nprint(f\"Macro precision Loss: {precision_score(y_test, y_pred_clear, average=\\'macro\\') - precision_score(y_test, y_pred_fhe, average=\\'macro\\')}\")\\nprint(f\"Macro recall Loss: {recall_score(y_test, y_pred_clear, average=\\'macro\\') - recall_score(y_test, y_pred_fhe, average=\\'macro\\')}\")\\nprint(f\"Macro f1-score Loss: {f1_score(y_test, y_pred_clear, average=\\'macro\\') - f1_score(y_test, y_pred_fhe, average=\\'macro\\')}\")\\n'"
            ],
            "application/vnd.google.colaboratory.intrinsic+json": {
              "type": "string"
            }
          },
          "metadata": {},
          "execution_count": 17
        }
      ],
      "id": "37DHBPSHR6qY"
    }
  ],
  "metadata": {
    "kernelspec": {
      "display_name": "Python 3",
      "name": "python3"
    },
    "language_info": {
      "name": "python"
    },
    "toc": {
      "base_numbering": 1,
      "nav_menu": {},
      "number_sections": true,
      "sideBar": true,
      "skip_h1_title": false,
      "title_cell": "Table of Contents",
      "title_sidebar": "Contents",
      "toc_cell": false,
      "toc_position": {
        "height": "calc(100% - 180px)",
        "left": "10px",
        "top": "150px",
        "width": "175px"
      },
      "toc_section_display": true,
      "toc_window_display": true
    },
    "varInspector": {
      "cols": {
        "lenName": 16,
        "lenType": 16,
        "lenVar": 40
      },
      "kernels_config": {
        "python": {
          "delete_cmd_postfix": "",
          "delete_cmd_prefix": "del ",
          "library": "var_list.py",
          "varRefreshCmd": "print(var_dic_list())"
        },
        "r": {
          "delete_cmd_postfix": ") ",
          "delete_cmd_prefix": "rm(",
          "library": "var_list.r",
          "varRefreshCmd": "cat(var_dic_list()) "
        }
      },
      "types_to_exclude": [
        "module",
        "function",
        "builtin_function_or_method",
        "instance",
        "_Feature"
      ],
      "window_display": false
    },
    "colab": {
      "provenance": [],
      "machine_shape": "hm",
      "gpuType": "T4",
      "collapsed_sections": [
        "qCvsUhUxQf8U"
      ]
    },
    "accelerator": "GPU",
    "gpuClass": "standard",
    "widgets": {
      "application/vnd.jupyter.widget-state+json": {
        "a718e5af22e64503a1957b94e6870402": {
          "model_module": "@jupyter-widgets/controls",
          "model_name": "HBoxModel",
          "model_module_version": "1.5.0",
          "state": {
            "_dom_classes": [],
            "_model_module": "@jupyter-widgets/controls",
            "_model_module_version": "1.5.0",
            "_model_name": "HBoxModel",
            "_view_count": null,
            "_view_module": "@jupyter-widgets/controls",
            "_view_module_version": "1.5.0",
            "_view_name": "HBoxView",
            "box_style": "",
            "children": [
              "IPY_MODEL_dcb171a47da74f50afa1a5e07d2ec379",
              "IPY_MODEL_f8951a8c09944901adf4f920622edb7e",
              "IPY_MODEL_0249f5c3138940fea9d917dd0ba5a090"
            ],
            "layout": "IPY_MODEL_6886db29f2b64d86b605be7122272f0b"
          }
        },
        "dcb171a47da74f50afa1a5e07d2ec379": {
          "model_module": "@jupyter-widgets/controls",
          "model_name": "HTMLModel",
          "model_module_version": "1.5.0",
          "state": {
            "_dom_classes": [],
            "_model_module": "@jupyter-widgets/controls",
            "_model_module_version": "1.5.0",
            "_model_name": "HTMLModel",
            "_view_count": null,
            "_view_module": "@jupyter-widgets/controls",
            "_view_module_version": "1.5.0",
            "_view_name": "HTMLView",
            "description": "",
            "description_tooltip": null,
            "layout": "IPY_MODEL_169368f736e84755bfe8b60410cf279c",
            "placeholder": "​",
            "style": "IPY_MODEL_ee66531277e84726b51e48d8974bcf40",
            "value": "Downloading (…)okenizer_config.json: 100%"
          }
        },
        "f8951a8c09944901adf4f920622edb7e": {
          "model_module": "@jupyter-widgets/controls",
          "model_name": "FloatProgressModel",
          "model_module_version": "1.5.0",
          "state": {
            "_dom_classes": [],
            "_model_module": "@jupyter-widgets/controls",
            "_model_module_version": "1.5.0",
            "_model_name": "FloatProgressModel",
            "_view_count": null,
            "_view_module": "@jupyter-widgets/controls",
            "_view_module_version": "1.5.0",
            "_view_name": "ProgressView",
            "bar_style": "success",
            "description": "",
            "description_tooltip": null,
            "layout": "IPY_MODEL_f528dcb35a9e4cd98433cbb7963004fd",
            "max": 29,
            "min": 0,
            "orientation": "horizontal",
            "style": "IPY_MODEL_a1a7efe8ede84242a39f73835ff7b9b1",
            "value": 29
          }
        },
        "0249f5c3138940fea9d917dd0ba5a090": {
          "model_module": "@jupyter-widgets/controls",
          "model_name": "HTMLModel",
          "model_module_version": "1.5.0",
          "state": {
            "_dom_classes": [],
            "_model_module": "@jupyter-widgets/controls",
            "_model_module_version": "1.5.0",
            "_model_name": "HTMLModel",
            "_view_count": null,
            "_view_module": "@jupyter-widgets/controls",
            "_view_module_version": "1.5.0",
            "_view_name": "HTMLView",
            "description": "",
            "description_tooltip": null,
            "layout": "IPY_MODEL_552baf5ee10d4c70894dc51595f80315",
            "placeholder": "​",
            "style": "IPY_MODEL_74a82e4c019d497ba542fb80151d52de",
            "value": " 29.0/29.0 [00:00&lt;00:00, 1.97kB/s]"
          }
        },
        "6886db29f2b64d86b605be7122272f0b": {
          "model_module": "@jupyter-widgets/base",
          "model_name": "LayoutModel",
          "model_module_version": "1.2.0",
          "state": {
            "_model_module": "@jupyter-widgets/base",
            "_model_module_version": "1.2.0",
            "_model_name": "LayoutModel",
            "_view_count": null,
            "_view_module": "@jupyter-widgets/base",
            "_view_module_version": "1.2.0",
            "_view_name": "LayoutView",
            "align_content": null,
            "align_items": null,
            "align_self": null,
            "border": null,
            "bottom": null,
            "display": null,
            "flex": null,
            "flex_flow": null,
            "grid_area": null,
            "grid_auto_columns": null,
            "grid_auto_flow": null,
            "grid_auto_rows": null,
            "grid_column": null,
            "grid_gap": null,
            "grid_row": null,
            "grid_template_areas": null,
            "grid_template_columns": null,
            "grid_template_rows": null,
            "height": null,
            "justify_content": null,
            "justify_items": null,
            "left": null,
            "margin": null,
            "max_height": null,
            "max_width": null,
            "min_height": null,
            "min_width": null,
            "object_fit": null,
            "object_position": null,
            "order": null,
            "overflow": null,
            "overflow_x": null,
            "overflow_y": null,
            "padding": null,
            "right": null,
            "top": null,
            "visibility": null,
            "width": null
          }
        },
        "169368f736e84755bfe8b60410cf279c": {
          "model_module": "@jupyter-widgets/base",
          "model_name": "LayoutModel",
          "model_module_version": "1.2.0",
          "state": {
            "_model_module": "@jupyter-widgets/base",
            "_model_module_version": "1.2.0",
            "_model_name": "LayoutModel",
            "_view_count": null,
            "_view_module": "@jupyter-widgets/base",
            "_view_module_version": "1.2.0",
            "_view_name": "LayoutView",
            "align_content": null,
            "align_items": null,
            "align_self": null,
            "border": null,
            "bottom": null,
            "display": null,
            "flex": null,
            "flex_flow": null,
            "grid_area": null,
            "grid_auto_columns": null,
            "grid_auto_flow": null,
            "grid_auto_rows": null,
            "grid_column": null,
            "grid_gap": null,
            "grid_row": null,
            "grid_template_areas": null,
            "grid_template_columns": null,
            "grid_template_rows": null,
            "height": null,
            "justify_content": null,
            "justify_items": null,
            "left": null,
            "margin": null,
            "max_height": null,
            "max_width": null,
            "min_height": null,
            "min_width": null,
            "object_fit": null,
            "object_position": null,
            "order": null,
            "overflow": null,
            "overflow_x": null,
            "overflow_y": null,
            "padding": null,
            "right": null,
            "top": null,
            "visibility": null,
            "width": null
          }
        },
        "ee66531277e84726b51e48d8974bcf40": {
          "model_module": "@jupyter-widgets/controls",
          "model_name": "DescriptionStyleModel",
          "model_module_version": "1.5.0",
          "state": {
            "_model_module": "@jupyter-widgets/controls",
            "_model_module_version": "1.5.0",
            "_model_name": "DescriptionStyleModel",
            "_view_count": null,
            "_view_module": "@jupyter-widgets/base",
            "_view_module_version": "1.2.0",
            "_view_name": "StyleView",
            "description_width": ""
          }
        },
        "f528dcb35a9e4cd98433cbb7963004fd": {
          "model_module": "@jupyter-widgets/base",
          "model_name": "LayoutModel",
          "model_module_version": "1.2.0",
          "state": {
            "_model_module": "@jupyter-widgets/base",
            "_model_module_version": "1.2.0",
            "_model_name": "LayoutModel",
            "_view_count": null,
            "_view_module": "@jupyter-widgets/base",
            "_view_module_version": "1.2.0",
            "_view_name": "LayoutView",
            "align_content": null,
            "align_items": null,
            "align_self": null,
            "border": null,
            "bottom": null,
            "display": null,
            "flex": null,
            "flex_flow": null,
            "grid_area": null,
            "grid_auto_columns": null,
            "grid_auto_flow": null,
            "grid_auto_rows": null,
            "grid_column": null,
            "grid_gap": null,
            "grid_row": null,
            "grid_template_areas": null,
            "grid_template_columns": null,
            "grid_template_rows": null,
            "height": null,
            "justify_content": null,
            "justify_items": null,
            "left": null,
            "margin": null,
            "max_height": null,
            "max_width": null,
            "min_height": null,
            "min_width": null,
            "object_fit": null,
            "object_position": null,
            "order": null,
            "overflow": null,
            "overflow_x": null,
            "overflow_y": null,
            "padding": null,
            "right": null,
            "top": null,
            "visibility": null,
            "width": null
          }
        },
        "a1a7efe8ede84242a39f73835ff7b9b1": {
          "model_module": "@jupyter-widgets/controls",
          "model_name": "ProgressStyleModel",
          "model_module_version": "1.5.0",
          "state": {
            "_model_module": "@jupyter-widgets/controls",
            "_model_module_version": "1.5.0",
            "_model_name": "ProgressStyleModel",
            "_view_count": null,
            "_view_module": "@jupyter-widgets/base",
            "_view_module_version": "1.2.0",
            "_view_name": "StyleView",
            "bar_color": null,
            "description_width": ""
          }
        },
        "552baf5ee10d4c70894dc51595f80315": {
          "model_module": "@jupyter-widgets/base",
          "model_name": "LayoutModel",
          "model_module_version": "1.2.0",
          "state": {
            "_model_module": "@jupyter-widgets/base",
            "_model_module_version": "1.2.0",
            "_model_name": "LayoutModel",
            "_view_count": null,
            "_view_module": "@jupyter-widgets/base",
            "_view_module_version": "1.2.0",
            "_view_name": "LayoutView",
            "align_content": null,
            "align_items": null,
            "align_self": null,
            "border": null,
            "bottom": null,
            "display": null,
            "flex": null,
            "flex_flow": null,
            "grid_area": null,
            "grid_auto_columns": null,
            "grid_auto_flow": null,
            "grid_auto_rows": null,
            "grid_column": null,
            "grid_gap": null,
            "grid_row": null,
            "grid_template_areas": null,
            "grid_template_columns": null,
            "grid_template_rows": null,
            "height": null,
            "justify_content": null,
            "justify_items": null,
            "left": null,
            "margin": null,
            "max_height": null,
            "max_width": null,
            "min_height": null,
            "min_width": null,
            "object_fit": null,
            "object_position": null,
            "order": null,
            "overflow": null,
            "overflow_x": null,
            "overflow_y": null,
            "padding": null,
            "right": null,
            "top": null,
            "visibility": null,
            "width": null
          }
        },
        "74a82e4c019d497ba542fb80151d52de": {
          "model_module": "@jupyter-widgets/controls",
          "model_name": "DescriptionStyleModel",
          "model_module_version": "1.5.0",
          "state": {
            "_model_module": "@jupyter-widgets/controls",
            "_model_module_version": "1.5.0",
            "_model_name": "DescriptionStyleModel",
            "_view_count": null,
            "_view_module": "@jupyter-widgets/base",
            "_view_module_version": "1.2.0",
            "_view_name": "StyleView",
            "description_width": ""
          }
        },
        "3e61c8bdc7c24edcafd54de835e98297": {
          "model_module": "@jupyter-widgets/controls",
          "model_name": "HBoxModel",
          "model_module_version": "1.5.0",
          "state": {
            "_dom_classes": [],
            "_model_module": "@jupyter-widgets/controls",
            "_model_module_version": "1.5.0",
            "_model_name": "HBoxModel",
            "_view_count": null,
            "_view_module": "@jupyter-widgets/controls",
            "_view_module_version": "1.5.0",
            "_view_name": "HBoxView",
            "box_style": "",
            "children": [
              "IPY_MODEL_5e4d4bd0a844467c8f1e2225243239c8",
              "IPY_MODEL_6eff7c847f034f14a3bb42d3c19c82fa",
              "IPY_MODEL_100e33e8c0884956a917f616ddb5e3db"
            ],
            "layout": "IPY_MODEL_867153eeed0c427a9f8aee3b66be3c68"
          }
        },
        "5e4d4bd0a844467c8f1e2225243239c8": {
          "model_module": "@jupyter-widgets/controls",
          "model_name": "HTMLModel",
          "model_module_version": "1.5.0",
          "state": {
            "_dom_classes": [],
            "_model_module": "@jupyter-widgets/controls",
            "_model_module_version": "1.5.0",
            "_model_name": "HTMLModel",
            "_view_count": null,
            "_view_module": "@jupyter-widgets/controls",
            "_view_module_version": "1.5.0",
            "_view_name": "HTMLView",
            "description": "",
            "description_tooltip": null,
            "layout": "IPY_MODEL_cee721cbebb641f2bb975767d11727da",
            "placeholder": "​",
            "style": "IPY_MODEL_7ce6cf82678f4adaa1ba96230cff05dd",
            "value": "Downloading (…)solve/main/vocab.txt: 100%"
          }
        },
        "6eff7c847f034f14a3bb42d3c19c82fa": {
          "model_module": "@jupyter-widgets/controls",
          "model_name": "FloatProgressModel",
          "model_module_version": "1.5.0",
          "state": {
            "_dom_classes": [],
            "_model_module": "@jupyter-widgets/controls",
            "_model_module_version": "1.5.0",
            "_model_name": "FloatProgressModel",
            "_view_count": null,
            "_view_module": "@jupyter-widgets/controls",
            "_view_module_version": "1.5.0",
            "_view_name": "ProgressView",
            "bar_style": "success",
            "description": "",
            "description_tooltip": null,
            "layout": "IPY_MODEL_5a0f3f3b3c144558a942ccde8ac593f9",
            "max": 213450,
            "min": 0,
            "orientation": "horizontal",
            "style": "IPY_MODEL_567c947b4a1542909fbfd352ca29554f",
            "value": 213450
          }
        },
        "100e33e8c0884956a917f616ddb5e3db": {
          "model_module": "@jupyter-widgets/controls",
          "model_name": "HTMLModel",
          "model_module_version": "1.5.0",
          "state": {
            "_dom_classes": [],
            "_model_module": "@jupyter-widgets/controls",
            "_model_module_version": "1.5.0",
            "_model_name": "HTMLModel",
            "_view_count": null,
            "_view_module": "@jupyter-widgets/controls",
            "_view_module_version": "1.5.0",
            "_view_name": "HTMLView",
            "description": "",
            "description_tooltip": null,
            "layout": "IPY_MODEL_9308028ca2854a98825f1e26935d569f",
            "placeholder": "​",
            "style": "IPY_MODEL_26162bce83fa4be5a93d295b56d38824",
            "value": " 213k/213k [00:00&lt;00:00, 3.02MB/s]"
          }
        },
        "867153eeed0c427a9f8aee3b66be3c68": {
          "model_module": "@jupyter-widgets/base",
          "model_name": "LayoutModel",
          "model_module_version": "1.2.0",
          "state": {
            "_model_module": "@jupyter-widgets/base",
            "_model_module_version": "1.2.0",
            "_model_name": "LayoutModel",
            "_view_count": null,
            "_view_module": "@jupyter-widgets/base",
            "_view_module_version": "1.2.0",
            "_view_name": "LayoutView",
            "align_content": null,
            "align_items": null,
            "align_self": null,
            "border": null,
            "bottom": null,
            "display": null,
            "flex": null,
            "flex_flow": null,
            "grid_area": null,
            "grid_auto_columns": null,
            "grid_auto_flow": null,
            "grid_auto_rows": null,
            "grid_column": null,
            "grid_gap": null,
            "grid_row": null,
            "grid_template_areas": null,
            "grid_template_columns": null,
            "grid_template_rows": null,
            "height": null,
            "justify_content": null,
            "justify_items": null,
            "left": null,
            "margin": null,
            "max_height": null,
            "max_width": null,
            "min_height": null,
            "min_width": null,
            "object_fit": null,
            "object_position": null,
            "order": null,
            "overflow": null,
            "overflow_x": null,
            "overflow_y": null,
            "padding": null,
            "right": null,
            "top": null,
            "visibility": null,
            "width": null
          }
        },
        "cee721cbebb641f2bb975767d11727da": {
          "model_module": "@jupyter-widgets/base",
          "model_name": "LayoutModel",
          "model_module_version": "1.2.0",
          "state": {
            "_model_module": "@jupyter-widgets/base",
            "_model_module_version": "1.2.0",
            "_model_name": "LayoutModel",
            "_view_count": null,
            "_view_module": "@jupyter-widgets/base",
            "_view_module_version": "1.2.0",
            "_view_name": "LayoutView",
            "align_content": null,
            "align_items": null,
            "align_self": null,
            "border": null,
            "bottom": null,
            "display": null,
            "flex": null,
            "flex_flow": null,
            "grid_area": null,
            "grid_auto_columns": null,
            "grid_auto_flow": null,
            "grid_auto_rows": null,
            "grid_column": null,
            "grid_gap": null,
            "grid_row": null,
            "grid_template_areas": null,
            "grid_template_columns": null,
            "grid_template_rows": null,
            "height": null,
            "justify_content": null,
            "justify_items": null,
            "left": null,
            "margin": null,
            "max_height": null,
            "max_width": null,
            "min_height": null,
            "min_width": null,
            "object_fit": null,
            "object_position": null,
            "order": null,
            "overflow": null,
            "overflow_x": null,
            "overflow_y": null,
            "padding": null,
            "right": null,
            "top": null,
            "visibility": null,
            "width": null
          }
        },
        "7ce6cf82678f4adaa1ba96230cff05dd": {
          "model_module": "@jupyter-widgets/controls",
          "model_name": "DescriptionStyleModel",
          "model_module_version": "1.5.0",
          "state": {
            "_model_module": "@jupyter-widgets/controls",
            "_model_module_version": "1.5.0",
            "_model_name": "DescriptionStyleModel",
            "_view_count": null,
            "_view_module": "@jupyter-widgets/base",
            "_view_module_version": "1.2.0",
            "_view_name": "StyleView",
            "description_width": ""
          }
        },
        "5a0f3f3b3c144558a942ccde8ac593f9": {
          "model_module": "@jupyter-widgets/base",
          "model_name": "LayoutModel",
          "model_module_version": "1.2.0",
          "state": {
            "_model_module": "@jupyter-widgets/base",
            "_model_module_version": "1.2.0",
            "_model_name": "LayoutModel",
            "_view_count": null,
            "_view_module": "@jupyter-widgets/base",
            "_view_module_version": "1.2.0",
            "_view_name": "LayoutView",
            "align_content": null,
            "align_items": null,
            "align_self": null,
            "border": null,
            "bottom": null,
            "display": null,
            "flex": null,
            "flex_flow": null,
            "grid_area": null,
            "grid_auto_columns": null,
            "grid_auto_flow": null,
            "grid_auto_rows": null,
            "grid_column": null,
            "grid_gap": null,
            "grid_row": null,
            "grid_template_areas": null,
            "grid_template_columns": null,
            "grid_template_rows": null,
            "height": null,
            "justify_content": null,
            "justify_items": null,
            "left": null,
            "margin": null,
            "max_height": null,
            "max_width": null,
            "min_height": null,
            "min_width": null,
            "object_fit": null,
            "object_position": null,
            "order": null,
            "overflow": null,
            "overflow_x": null,
            "overflow_y": null,
            "padding": null,
            "right": null,
            "top": null,
            "visibility": null,
            "width": null
          }
        },
        "567c947b4a1542909fbfd352ca29554f": {
          "model_module": "@jupyter-widgets/controls",
          "model_name": "ProgressStyleModel",
          "model_module_version": "1.5.0",
          "state": {
            "_model_module": "@jupyter-widgets/controls",
            "_model_module_version": "1.5.0",
            "_model_name": "ProgressStyleModel",
            "_view_count": null,
            "_view_module": "@jupyter-widgets/base",
            "_view_module_version": "1.2.0",
            "_view_name": "StyleView",
            "bar_color": null,
            "description_width": ""
          }
        },
        "9308028ca2854a98825f1e26935d569f": {
          "model_module": "@jupyter-widgets/base",
          "model_name": "LayoutModel",
          "model_module_version": "1.2.0",
          "state": {
            "_model_module": "@jupyter-widgets/base",
            "_model_module_version": "1.2.0",
            "_model_name": "LayoutModel",
            "_view_count": null,
            "_view_module": "@jupyter-widgets/base",
            "_view_module_version": "1.2.0",
            "_view_name": "LayoutView",
            "align_content": null,
            "align_items": null,
            "align_self": null,
            "border": null,
            "bottom": null,
            "display": null,
            "flex": null,
            "flex_flow": null,
            "grid_area": null,
            "grid_auto_columns": null,
            "grid_auto_flow": null,
            "grid_auto_rows": null,
            "grid_column": null,
            "grid_gap": null,
            "grid_row": null,
            "grid_template_areas": null,
            "grid_template_columns": null,
            "grid_template_rows": null,
            "height": null,
            "justify_content": null,
            "justify_items": null,
            "left": null,
            "margin": null,
            "max_height": null,
            "max_width": null,
            "min_height": null,
            "min_width": null,
            "object_fit": null,
            "object_position": null,
            "order": null,
            "overflow": null,
            "overflow_x": null,
            "overflow_y": null,
            "padding": null,
            "right": null,
            "top": null,
            "visibility": null,
            "width": null
          }
        },
        "26162bce83fa4be5a93d295b56d38824": {
          "model_module": "@jupyter-widgets/controls",
          "model_name": "DescriptionStyleModel",
          "model_module_version": "1.5.0",
          "state": {
            "_model_module": "@jupyter-widgets/controls",
            "_model_module_version": "1.5.0",
            "_model_name": "DescriptionStyleModel",
            "_view_count": null,
            "_view_module": "@jupyter-widgets/base",
            "_view_module_version": "1.2.0",
            "_view_name": "StyleView",
            "description_width": ""
          }
        },
        "db429edec30b40b4a811c22cae662b48": {
          "model_module": "@jupyter-widgets/controls",
          "model_name": "HBoxModel",
          "model_module_version": "1.5.0",
          "state": {
            "_dom_classes": [],
            "_model_module": "@jupyter-widgets/controls",
            "_model_module_version": "1.5.0",
            "_model_name": "HBoxModel",
            "_view_count": null,
            "_view_module": "@jupyter-widgets/controls",
            "_view_module_version": "1.5.0",
            "_view_name": "HBoxView",
            "box_style": "",
            "children": [
              "IPY_MODEL_fbf1c0f084c046f580a55b15a5282493",
              "IPY_MODEL_2a812a07b37a4f5f93985ce807f2f591",
              "IPY_MODEL_19f3e376ed4c4ebaa0bb7fb8cc4de212"
            ],
            "layout": "IPY_MODEL_9725d39d5b284f5c85dfbefaa27c5a00"
          }
        },
        "fbf1c0f084c046f580a55b15a5282493": {
          "model_module": "@jupyter-widgets/controls",
          "model_name": "HTMLModel",
          "model_module_version": "1.5.0",
          "state": {
            "_dom_classes": [],
            "_model_module": "@jupyter-widgets/controls",
            "_model_module_version": "1.5.0",
            "_model_name": "HTMLModel",
            "_view_count": null,
            "_view_module": "@jupyter-widgets/controls",
            "_view_module_version": "1.5.0",
            "_view_name": "HTMLView",
            "description": "",
            "description_tooltip": null,
            "layout": "IPY_MODEL_e64573528dc1426c86508a6792cab34e",
            "placeholder": "​",
            "style": "IPY_MODEL_294a3a414ddb479fb1f8cc04bf1d81cb",
            "value": "Downloading (…)/main/tokenizer.json: 100%"
          }
        },
        "2a812a07b37a4f5f93985ce807f2f591": {
          "model_module": "@jupyter-widgets/controls",
          "model_name": "FloatProgressModel",
          "model_module_version": "1.5.0",
          "state": {
            "_dom_classes": [],
            "_model_module": "@jupyter-widgets/controls",
            "_model_module_version": "1.5.0",
            "_model_name": "FloatProgressModel",
            "_view_count": null,
            "_view_module": "@jupyter-widgets/controls",
            "_view_module_version": "1.5.0",
            "_view_name": "ProgressView",
            "bar_style": "success",
            "description": "",
            "description_tooltip": null,
            "layout": "IPY_MODEL_6aa46890e9bf48e78f9c279af3d0c8f2",
            "max": 435797,
            "min": 0,
            "orientation": "horizontal",
            "style": "IPY_MODEL_b364dbee3652408babf1439ac9b80f3e",
            "value": 435797
          }
        },
        "19f3e376ed4c4ebaa0bb7fb8cc4de212": {
          "model_module": "@jupyter-widgets/controls",
          "model_name": "HTMLModel",
          "model_module_version": "1.5.0",
          "state": {
            "_dom_classes": [],
            "_model_module": "@jupyter-widgets/controls",
            "_model_module_version": "1.5.0",
            "_model_name": "HTMLModel",
            "_view_count": null,
            "_view_module": "@jupyter-widgets/controls",
            "_view_module_version": "1.5.0",
            "_view_name": "HTMLView",
            "description": "",
            "description_tooltip": null,
            "layout": "IPY_MODEL_35704292df95441fa10ff8664b68ac3b",
            "placeholder": "​",
            "style": "IPY_MODEL_c323cb7ba9284901ac13e83f471a7113",
            "value": " 436k/436k [00:00&lt;00:00, 4.38MB/s]"
          }
        },
        "9725d39d5b284f5c85dfbefaa27c5a00": {
          "model_module": "@jupyter-widgets/base",
          "model_name": "LayoutModel",
          "model_module_version": "1.2.0",
          "state": {
            "_model_module": "@jupyter-widgets/base",
            "_model_module_version": "1.2.0",
            "_model_name": "LayoutModel",
            "_view_count": null,
            "_view_module": "@jupyter-widgets/base",
            "_view_module_version": "1.2.0",
            "_view_name": "LayoutView",
            "align_content": null,
            "align_items": null,
            "align_self": null,
            "border": null,
            "bottom": null,
            "display": null,
            "flex": null,
            "flex_flow": null,
            "grid_area": null,
            "grid_auto_columns": null,
            "grid_auto_flow": null,
            "grid_auto_rows": null,
            "grid_column": null,
            "grid_gap": null,
            "grid_row": null,
            "grid_template_areas": null,
            "grid_template_columns": null,
            "grid_template_rows": null,
            "height": null,
            "justify_content": null,
            "justify_items": null,
            "left": null,
            "margin": null,
            "max_height": null,
            "max_width": null,
            "min_height": null,
            "min_width": null,
            "object_fit": null,
            "object_position": null,
            "order": null,
            "overflow": null,
            "overflow_x": null,
            "overflow_y": null,
            "padding": null,
            "right": null,
            "top": null,
            "visibility": null,
            "width": null
          }
        },
        "e64573528dc1426c86508a6792cab34e": {
          "model_module": "@jupyter-widgets/base",
          "model_name": "LayoutModel",
          "model_module_version": "1.2.0",
          "state": {
            "_model_module": "@jupyter-widgets/base",
            "_model_module_version": "1.2.0",
            "_model_name": "LayoutModel",
            "_view_count": null,
            "_view_module": "@jupyter-widgets/base",
            "_view_module_version": "1.2.0",
            "_view_name": "LayoutView",
            "align_content": null,
            "align_items": null,
            "align_self": null,
            "border": null,
            "bottom": null,
            "display": null,
            "flex": null,
            "flex_flow": null,
            "grid_area": null,
            "grid_auto_columns": null,
            "grid_auto_flow": null,
            "grid_auto_rows": null,
            "grid_column": null,
            "grid_gap": null,
            "grid_row": null,
            "grid_template_areas": null,
            "grid_template_columns": null,
            "grid_template_rows": null,
            "height": null,
            "justify_content": null,
            "justify_items": null,
            "left": null,
            "margin": null,
            "max_height": null,
            "max_width": null,
            "min_height": null,
            "min_width": null,
            "object_fit": null,
            "object_position": null,
            "order": null,
            "overflow": null,
            "overflow_x": null,
            "overflow_y": null,
            "padding": null,
            "right": null,
            "top": null,
            "visibility": null,
            "width": null
          }
        },
        "294a3a414ddb479fb1f8cc04bf1d81cb": {
          "model_module": "@jupyter-widgets/controls",
          "model_name": "DescriptionStyleModel",
          "model_module_version": "1.5.0",
          "state": {
            "_model_module": "@jupyter-widgets/controls",
            "_model_module_version": "1.5.0",
            "_model_name": "DescriptionStyleModel",
            "_view_count": null,
            "_view_module": "@jupyter-widgets/base",
            "_view_module_version": "1.2.0",
            "_view_name": "StyleView",
            "description_width": ""
          }
        },
        "6aa46890e9bf48e78f9c279af3d0c8f2": {
          "model_module": "@jupyter-widgets/base",
          "model_name": "LayoutModel",
          "model_module_version": "1.2.0",
          "state": {
            "_model_module": "@jupyter-widgets/base",
            "_model_module_version": "1.2.0",
            "_model_name": "LayoutModel",
            "_view_count": null,
            "_view_module": "@jupyter-widgets/base",
            "_view_module_version": "1.2.0",
            "_view_name": "LayoutView",
            "align_content": null,
            "align_items": null,
            "align_self": null,
            "border": null,
            "bottom": null,
            "display": null,
            "flex": null,
            "flex_flow": null,
            "grid_area": null,
            "grid_auto_columns": null,
            "grid_auto_flow": null,
            "grid_auto_rows": null,
            "grid_column": null,
            "grid_gap": null,
            "grid_row": null,
            "grid_template_areas": null,
            "grid_template_columns": null,
            "grid_template_rows": null,
            "height": null,
            "justify_content": null,
            "justify_items": null,
            "left": null,
            "margin": null,
            "max_height": null,
            "max_width": null,
            "min_height": null,
            "min_width": null,
            "object_fit": null,
            "object_position": null,
            "order": null,
            "overflow": null,
            "overflow_x": null,
            "overflow_y": null,
            "padding": null,
            "right": null,
            "top": null,
            "visibility": null,
            "width": null
          }
        },
        "b364dbee3652408babf1439ac9b80f3e": {
          "model_module": "@jupyter-widgets/controls",
          "model_name": "ProgressStyleModel",
          "model_module_version": "1.5.0",
          "state": {
            "_model_module": "@jupyter-widgets/controls",
            "_model_module_version": "1.5.0",
            "_model_name": "ProgressStyleModel",
            "_view_count": null,
            "_view_module": "@jupyter-widgets/base",
            "_view_module_version": "1.2.0",
            "_view_name": "StyleView",
            "bar_color": null,
            "description_width": ""
          }
        },
        "35704292df95441fa10ff8664b68ac3b": {
          "model_module": "@jupyter-widgets/base",
          "model_name": "LayoutModel",
          "model_module_version": "1.2.0",
          "state": {
            "_model_module": "@jupyter-widgets/base",
            "_model_module_version": "1.2.0",
            "_model_name": "LayoutModel",
            "_view_count": null,
            "_view_module": "@jupyter-widgets/base",
            "_view_module_version": "1.2.0",
            "_view_name": "LayoutView",
            "align_content": null,
            "align_items": null,
            "align_self": null,
            "border": null,
            "bottom": null,
            "display": null,
            "flex": null,
            "flex_flow": null,
            "grid_area": null,
            "grid_auto_columns": null,
            "grid_auto_flow": null,
            "grid_auto_rows": null,
            "grid_column": null,
            "grid_gap": null,
            "grid_row": null,
            "grid_template_areas": null,
            "grid_template_columns": null,
            "grid_template_rows": null,
            "height": null,
            "justify_content": null,
            "justify_items": null,
            "left": null,
            "margin": null,
            "max_height": null,
            "max_width": null,
            "min_height": null,
            "min_width": null,
            "object_fit": null,
            "object_position": null,
            "order": null,
            "overflow": null,
            "overflow_x": null,
            "overflow_y": null,
            "padding": null,
            "right": null,
            "top": null,
            "visibility": null,
            "width": null
          }
        },
        "c323cb7ba9284901ac13e83f471a7113": {
          "model_module": "@jupyter-widgets/controls",
          "model_name": "DescriptionStyleModel",
          "model_module_version": "1.5.0",
          "state": {
            "_model_module": "@jupyter-widgets/controls",
            "_model_module_version": "1.5.0",
            "_model_name": "DescriptionStyleModel",
            "_view_count": null,
            "_view_module": "@jupyter-widgets/base",
            "_view_module_version": "1.2.0",
            "_view_name": "StyleView",
            "description_width": ""
          }
        },
        "c3514f7d03c2451dbbeb694c6738c1ba": {
          "model_module": "@jupyter-widgets/controls",
          "model_name": "HBoxModel",
          "model_module_version": "1.5.0",
          "state": {
            "_dom_classes": [],
            "_model_module": "@jupyter-widgets/controls",
            "_model_module_version": "1.5.0",
            "_model_name": "HBoxModel",
            "_view_count": null,
            "_view_module": "@jupyter-widgets/controls",
            "_view_module_version": "1.5.0",
            "_view_name": "HBoxView",
            "box_style": "",
            "children": [
              "IPY_MODEL_66bdef3f83934d8ea5beab6d905e4390",
              "IPY_MODEL_4771f429882b46329878fdfbdb24cf67",
              "IPY_MODEL_2f2a5f83e12444499149a32ea73adc75"
            ],
            "layout": "IPY_MODEL_385f4eae8cf242df9315b3cb1b515683"
          }
        },
        "66bdef3f83934d8ea5beab6d905e4390": {
          "model_module": "@jupyter-widgets/controls",
          "model_name": "HTMLModel",
          "model_module_version": "1.5.0",
          "state": {
            "_dom_classes": [],
            "_model_module": "@jupyter-widgets/controls",
            "_model_module_version": "1.5.0",
            "_model_name": "HTMLModel",
            "_view_count": null,
            "_view_module": "@jupyter-widgets/controls",
            "_view_module_version": "1.5.0",
            "_view_name": "HTMLView",
            "description": "",
            "description_tooltip": null,
            "layout": "IPY_MODEL_172e36795e7547e493de8fba6a44e416",
            "placeholder": "​",
            "style": "IPY_MODEL_21ffae07fc6940e9bcac1456276182b0",
            "value": "Downloading (…)lve/main/config.json: 100%"
          }
        },
        "4771f429882b46329878fdfbdb24cf67": {
          "model_module": "@jupyter-widgets/controls",
          "model_name": "FloatProgressModel",
          "model_module_version": "1.5.0",
          "state": {
            "_dom_classes": [],
            "_model_module": "@jupyter-widgets/controls",
            "_model_module_version": "1.5.0",
            "_model_name": "FloatProgressModel",
            "_view_count": null,
            "_view_module": "@jupyter-widgets/controls",
            "_view_module_version": "1.5.0",
            "_view_name": "ProgressView",
            "bar_style": "success",
            "description": "",
            "description_tooltip": null,
            "layout": "IPY_MODEL_b35d91237df14a73b0f67402523f9f63",
            "max": 570,
            "min": 0,
            "orientation": "horizontal",
            "style": "IPY_MODEL_e97aa2847538457fa309999dccb30e08",
            "value": 570
          }
        },
        "2f2a5f83e12444499149a32ea73adc75": {
          "model_module": "@jupyter-widgets/controls",
          "model_name": "HTMLModel",
          "model_module_version": "1.5.0",
          "state": {
            "_dom_classes": [],
            "_model_module": "@jupyter-widgets/controls",
            "_model_module_version": "1.5.0",
            "_model_name": "HTMLModel",
            "_view_count": null,
            "_view_module": "@jupyter-widgets/controls",
            "_view_module_version": "1.5.0",
            "_view_name": "HTMLView",
            "description": "",
            "description_tooltip": null,
            "layout": "IPY_MODEL_5a7ccf0abbc94b95a84eb98a0fd1f1e6",
            "placeholder": "​",
            "style": "IPY_MODEL_0d71bc9ebeb446acb6a4e14af88292bc",
            "value": " 570/570 [00:00&lt;00:00, 44.9kB/s]"
          }
        },
        "385f4eae8cf242df9315b3cb1b515683": {
          "model_module": "@jupyter-widgets/base",
          "model_name": "LayoutModel",
          "model_module_version": "1.2.0",
          "state": {
            "_model_module": "@jupyter-widgets/base",
            "_model_module_version": "1.2.0",
            "_model_name": "LayoutModel",
            "_view_count": null,
            "_view_module": "@jupyter-widgets/base",
            "_view_module_version": "1.2.0",
            "_view_name": "LayoutView",
            "align_content": null,
            "align_items": null,
            "align_self": null,
            "border": null,
            "bottom": null,
            "display": null,
            "flex": null,
            "flex_flow": null,
            "grid_area": null,
            "grid_auto_columns": null,
            "grid_auto_flow": null,
            "grid_auto_rows": null,
            "grid_column": null,
            "grid_gap": null,
            "grid_row": null,
            "grid_template_areas": null,
            "grid_template_columns": null,
            "grid_template_rows": null,
            "height": null,
            "justify_content": null,
            "justify_items": null,
            "left": null,
            "margin": null,
            "max_height": null,
            "max_width": null,
            "min_height": null,
            "min_width": null,
            "object_fit": null,
            "object_position": null,
            "order": null,
            "overflow": null,
            "overflow_x": null,
            "overflow_y": null,
            "padding": null,
            "right": null,
            "top": null,
            "visibility": null,
            "width": null
          }
        },
        "172e36795e7547e493de8fba6a44e416": {
          "model_module": "@jupyter-widgets/base",
          "model_name": "LayoutModel",
          "model_module_version": "1.2.0",
          "state": {
            "_model_module": "@jupyter-widgets/base",
            "_model_module_version": "1.2.0",
            "_model_name": "LayoutModel",
            "_view_count": null,
            "_view_module": "@jupyter-widgets/base",
            "_view_module_version": "1.2.0",
            "_view_name": "LayoutView",
            "align_content": null,
            "align_items": null,
            "align_self": null,
            "border": null,
            "bottom": null,
            "display": null,
            "flex": null,
            "flex_flow": null,
            "grid_area": null,
            "grid_auto_columns": null,
            "grid_auto_flow": null,
            "grid_auto_rows": null,
            "grid_column": null,
            "grid_gap": null,
            "grid_row": null,
            "grid_template_areas": null,
            "grid_template_columns": null,
            "grid_template_rows": null,
            "height": null,
            "justify_content": null,
            "justify_items": null,
            "left": null,
            "margin": null,
            "max_height": null,
            "max_width": null,
            "min_height": null,
            "min_width": null,
            "object_fit": null,
            "object_position": null,
            "order": null,
            "overflow": null,
            "overflow_x": null,
            "overflow_y": null,
            "padding": null,
            "right": null,
            "top": null,
            "visibility": null,
            "width": null
          }
        },
        "21ffae07fc6940e9bcac1456276182b0": {
          "model_module": "@jupyter-widgets/controls",
          "model_name": "DescriptionStyleModel",
          "model_module_version": "1.5.0",
          "state": {
            "_model_module": "@jupyter-widgets/controls",
            "_model_module_version": "1.5.0",
            "_model_name": "DescriptionStyleModel",
            "_view_count": null,
            "_view_module": "@jupyter-widgets/base",
            "_view_module_version": "1.2.0",
            "_view_name": "StyleView",
            "description_width": ""
          }
        },
        "b35d91237df14a73b0f67402523f9f63": {
          "model_module": "@jupyter-widgets/base",
          "model_name": "LayoutModel",
          "model_module_version": "1.2.0",
          "state": {
            "_model_module": "@jupyter-widgets/base",
            "_model_module_version": "1.2.0",
            "_model_name": "LayoutModel",
            "_view_count": null,
            "_view_module": "@jupyter-widgets/base",
            "_view_module_version": "1.2.0",
            "_view_name": "LayoutView",
            "align_content": null,
            "align_items": null,
            "align_self": null,
            "border": null,
            "bottom": null,
            "display": null,
            "flex": null,
            "flex_flow": null,
            "grid_area": null,
            "grid_auto_columns": null,
            "grid_auto_flow": null,
            "grid_auto_rows": null,
            "grid_column": null,
            "grid_gap": null,
            "grid_row": null,
            "grid_template_areas": null,
            "grid_template_columns": null,
            "grid_template_rows": null,
            "height": null,
            "justify_content": null,
            "justify_items": null,
            "left": null,
            "margin": null,
            "max_height": null,
            "max_width": null,
            "min_height": null,
            "min_width": null,
            "object_fit": null,
            "object_position": null,
            "order": null,
            "overflow": null,
            "overflow_x": null,
            "overflow_y": null,
            "padding": null,
            "right": null,
            "top": null,
            "visibility": null,
            "width": null
          }
        },
        "e97aa2847538457fa309999dccb30e08": {
          "model_module": "@jupyter-widgets/controls",
          "model_name": "ProgressStyleModel",
          "model_module_version": "1.5.0",
          "state": {
            "_model_module": "@jupyter-widgets/controls",
            "_model_module_version": "1.5.0",
            "_model_name": "ProgressStyleModel",
            "_view_count": null,
            "_view_module": "@jupyter-widgets/base",
            "_view_module_version": "1.2.0",
            "_view_name": "StyleView",
            "bar_color": null,
            "description_width": ""
          }
        },
        "5a7ccf0abbc94b95a84eb98a0fd1f1e6": {
          "model_module": "@jupyter-widgets/base",
          "model_name": "LayoutModel",
          "model_module_version": "1.2.0",
          "state": {
            "_model_module": "@jupyter-widgets/base",
            "_model_module_version": "1.2.0",
            "_model_name": "LayoutModel",
            "_view_count": null,
            "_view_module": "@jupyter-widgets/base",
            "_view_module_version": "1.2.0",
            "_view_name": "LayoutView",
            "align_content": null,
            "align_items": null,
            "align_self": null,
            "border": null,
            "bottom": null,
            "display": null,
            "flex": null,
            "flex_flow": null,
            "grid_area": null,
            "grid_auto_columns": null,
            "grid_auto_flow": null,
            "grid_auto_rows": null,
            "grid_column": null,
            "grid_gap": null,
            "grid_row": null,
            "grid_template_areas": null,
            "grid_template_columns": null,
            "grid_template_rows": null,
            "height": null,
            "justify_content": null,
            "justify_items": null,
            "left": null,
            "margin": null,
            "max_height": null,
            "max_width": null,
            "min_height": null,
            "min_width": null,
            "object_fit": null,
            "object_position": null,
            "order": null,
            "overflow": null,
            "overflow_x": null,
            "overflow_y": null,
            "padding": null,
            "right": null,
            "top": null,
            "visibility": null,
            "width": null
          }
        },
        "0d71bc9ebeb446acb6a4e14af88292bc": {
          "model_module": "@jupyter-widgets/controls",
          "model_name": "DescriptionStyleModel",
          "model_module_version": "1.5.0",
          "state": {
            "_model_module": "@jupyter-widgets/controls",
            "_model_module_version": "1.5.0",
            "_model_name": "DescriptionStyleModel",
            "_view_count": null,
            "_view_module": "@jupyter-widgets/base",
            "_view_module_version": "1.2.0",
            "_view_name": "StyleView",
            "description_width": ""
          }
        },
        "1713894d715b469a9fd9c8378377a171": {
          "model_module": "@jupyter-widgets/controls",
          "model_name": "HBoxModel",
          "model_module_version": "1.5.0",
          "state": {
            "_dom_classes": [],
            "_model_module": "@jupyter-widgets/controls",
            "_model_module_version": "1.5.0",
            "_model_name": "HBoxModel",
            "_view_count": null,
            "_view_module": "@jupyter-widgets/controls",
            "_view_module_version": "1.5.0",
            "_view_name": "HBoxView",
            "box_style": "",
            "children": [
              "IPY_MODEL_a5d248de7eef4667ac0ea4aa23186ca4",
              "IPY_MODEL_9314885129df4c0b91a8654997e370e9",
              "IPY_MODEL_08aaab29a5404b32b47a2fc94b23b8fa"
            ],
            "layout": "IPY_MODEL_63e2b74b9fc143d09bdd687fd76f0e6f"
          }
        },
        "a5d248de7eef4667ac0ea4aa23186ca4": {
          "model_module": "@jupyter-widgets/controls",
          "model_name": "HTMLModel",
          "model_module_version": "1.5.0",
          "state": {
            "_dom_classes": [],
            "_model_module": "@jupyter-widgets/controls",
            "_model_module_version": "1.5.0",
            "_model_name": "HTMLModel",
            "_view_count": null,
            "_view_module": "@jupyter-widgets/controls",
            "_view_module_version": "1.5.0",
            "_view_name": "HTMLView",
            "description": "",
            "description_tooltip": null,
            "layout": "IPY_MODEL_72cef14d2af64be7abf0051795e84671",
            "placeholder": "​",
            "style": "IPY_MODEL_b5ecaeac83144a06bd34bc8a4dc750de",
            "value": "Downloading pytorch_model.bin: 100%"
          }
        },
        "9314885129df4c0b91a8654997e370e9": {
          "model_module": "@jupyter-widgets/controls",
          "model_name": "FloatProgressModel",
          "model_module_version": "1.5.0",
          "state": {
            "_dom_classes": [],
            "_model_module": "@jupyter-widgets/controls",
            "_model_module_version": "1.5.0",
            "_model_name": "FloatProgressModel",
            "_view_count": null,
            "_view_module": "@jupyter-widgets/controls",
            "_view_module_version": "1.5.0",
            "_view_name": "ProgressView",
            "bar_style": "success",
            "description": "",
            "description_tooltip": null,
            "layout": "IPY_MODEL_454cbe5491ae40bd9995023810d81364",
            "max": 435779157,
            "min": 0,
            "orientation": "horizontal",
            "style": "IPY_MODEL_ee0f0a77ca8148f78121b9ea4957e617",
            "value": 435779157
          }
        },
        "08aaab29a5404b32b47a2fc94b23b8fa": {
          "model_module": "@jupyter-widgets/controls",
          "model_name": "HTMLModel",
          "model_module_version": "1.5.0",
          "state": {
            "_dom_classes": [],
            "_model_module": "@jupyter-widgets/controls",
            "_model_module_version": "1.5.0",
            "_model_name": "HTMLModel",
            "_view_count": null,
            "_view_module": "@jupyter-widgets/controls",
            "_view_module_version": "1.5.0",
            "_view_name": "HTMLView",
            "description": "",
            "description_tooltip": null,
            "layout": "IPY_MODEL_f03116cefbd04f08914c44b383d5265d",
            "placeholder": "​",
            "style": "IPY_MODEL_2d3bca55865b42e2812b9ee8e55730b1",
            "value": " 436M/436M [00:03&lt;00:00, 121MB/s]"
          }
        },
        "63e2b74b9fc143d09bdd687fd76f0e6f": {
          "model_module": "@jupyter-widgets/base",
          "model_name": "LayoutModel",
          "model_module_version": "1.2.0",
          "state": {
            "_model_module": "@jupyter-widgets/base",
            "_model_module_version": "1.2.0",
            "_model_name": "LayoutModel",
            "_view_count": null,
            "_view_module": "@jupyter-widgets/base",
            "_view_module_version": "1.2.0",
            "_view_name": "LayoutView",
            "align_content": null,
            "align_items": null,
            "align_self": null,
            "border": null,
            "bottom": null,
            "display": null,
            "flex": null,
            "flex_flow": null,
            "grid_area": null,
            "grid_auto_columns": null,
            "grid_auto_flow": null,
            "grid_auto_rows": null,
            "grid_column": null,
            "grid_gap": null,
            "grid_row": null,
            "grid_template_areas": null,
            "grid_template_columns": null,
            "grid_template_rows": null,
            "height": null,
            "justify_content": null,
            "justify_items": null,
            "left": null,
            "margin": null,
            "max_height": null,
            "max_width": null,
            "min_height": null,
            "min_width": null,
            "object_fit": null,
            "object_position": null,
            "order": null,
            "overflow": null,
            "overflow_x": null,
            "overflow_y": null,
            "padding": null,
            "right": null,
            "top": null,
            "visibility": null,
            "width": null
          }
        },
        "72cef14d2af64be7abf0051795e84671": {
          "model_module": "@jupyter-widgets/base",
          "model_name": "LayoutModel",
          "model_module_version": "1.2.0",
          "state": {
            "_model_module": "@jupyter-widgets/base",
            "_model_module_version": "1.2.0",
            "_model_name": "LayoutModel",
            "_view_count": null,
            "_view_module": "@jupyter-widgets/base",
            "_view_module_version": "1.2.0",
            "_view_name": "LayoutView",
            "align_content": null,
            "align_items": null,
            "align_self": null,
            "border": null,
            "bottom": null,
            "display": null,
            "flex": null,
            "flex_flow": null,
            "grid_area": null,
            "grid_auto_columns": null,
            "grid_auto_flow": null,
            "grid_auto_rows": null,
            "grid_column": null,
            "grid_gap": null,
            "grid_row": null,
            "grid_template_areas": null,
            "grid_template_columns": null,
            "grid_template_rows": null,
            "height": null,
            "justify_content": null,
            "justify_items": null,
            "left": null,
            "margin": null,
            "max_height": null,
            "max_width": null,
            "min_height": null,
            "min_width": null,
            "object_fit": null,
            "object_position": null,
            "order": null,
            "overflow": null,
            "overflow_x": null,
            "overflow_y": null,
            "padding": null,
            "right": null,
            "top": null,
            "visibility": null,
            "width": null
          }
        },
        "b5ecaeac83144a06bd34bc8a4dc750de": {
          "model_module": "@jupyter-widgets/controls",
          "model_name": "DescriptionStyleModel",
          "model_module_version": "1.5.0",
          "state": {
            "_model_module": "@jupyter-widgets/controls",
            "_model_module_version": "1.5.0",
            "_model_name": "DescriptionStyleModel",
            "_view_count": null,
            "_view_module": "@jupyter-widgets/base",
            "_view_module_version": "1.2.0",
            "_view_name": "StyleView",
            "description_width": ""
          }
        },
        "454cbe5491ae40bd9995023810d81364": {
          "model_module": "@jupyter-widgets/base",
          "model_name": "LayoutModel",
          "model_module_version": "1.2.0",
          "state": {
            "_model_module": "@jupyter-widgets/base",
            "_model_module_version": "1.2.0",
            "_model_name": "LayoutModel",
            "_view_count": null,
            "_view_module": "@jupyter-widgets/base",
            "_view_module_version": "1.2.0",
            "_view_name": "LayoutView",
            "align_content": null,
            "align_items": null,
            "align_self": null,
            "border": null,
            "bottom": null,
            "display": null,
            "flex": null,
            "flex_flow": null,
            "grid_area": null,
            "grid_auto_columns": null,
            "grid_auto_flow": null,
            "grid_auto_rows": null,
            "grid_column": null,
            "grid_gap": null,
            "grid_row": null,
            "grid_template_areas": null,
            "grid_template_columns": null,
            "grid_template_rows": null,
            "height": null,
            "justify_content": null,
            "justify_items": null,
            "left": null,
            "margin": null,
            "max_height": null,
            "max_width": null,
            "min_height": null,
            "min_width": null,
            "object_fit": null,
            "object_position": null,
            "order": null,
            "overflow": null,
            "overflow_x": null,
            "overflow_y": null,
            "padding": null,
            "right": null,
            "top": null,
            "visibility": null,
            "width": null
          }
        },
        "ee0f0a77ca8148f78121b9ea4957e617": {
          "model_module": "@jupyter-widgets/controls",
          "model_name": "ProgressStyleModel",
          "model_module_version": "1.5.0",
          "state": {
            "_model_module": "@jupyter-widgets/controls",
            "_model_module_version": "1.5.0",
            "_model_name": "ProgressStyleModel",
            "_view_count": null,
            "_view_module": "@jupyter-widgets/base",
            "_view_module_version": "1.2.0",
            "_view_name": "StyleView",
            "bar_color": null,
            "description_width": ""
          }
        },
        "f03116cefbd04f08914c44b383d5265d": {
          "model_module": "@jupyter-widgets/base",
          "model_name": "LayoutModel",
          "model_module_version": "1.2.0",
          "state": {
            "_model_module": "@jupyter-widgets/base",
            "_model_module_version": "1.2.0",
            "_model_name": "LayoutModel",
            "_view_count": null,
            "_view_module": "@jupyter-widgets/base",
            "_view_module_version": "1.2.0",
            "_view_name": "LayoutView",
            "align_content": null,
            "align_items": null,
            "align_self": null,
            "border": null,
            "bottom": null,
            "display": null,
            "flex": null,
            "flex_flow": null,
            "grid_area": null,
            "grid_auto_columns": null,
            "grid_auto_flow": null,
            "grid_auto_rows": null,
            "grid_column": null,
            "grid_gap": null,
            "grid_row": null,
            "grid_template_areas": null,
            "grid_template_columns": null,
            "grid_template_rows": null,
            "height": null,
            "justify_content": null,
            "justify_items": null,
            "left": null,
            "margin": null,
            "max_height": null,
            "max_width": null,
            "min_height": null,
            "min_width": null,
            "object_fit": null,
            "object_position": null,
            "order": null,
            "overflow": null,
            "overflow_x": null,
            "overflow_y": null,
            "padding": null,
            "right": null,
            "top": null,
            "visibility": null,
            "width": null
          }
        },
        "2d3bca55865b42e2812b9ee8e55730b1": {
          "model_module": "@jupyter-widgets/controls",
          "model_name": "DescriptionStyleModel",
          "model_module_version": "1.5.0",
          "state": {
            "_model_module": "@jupyter-widgets/controls",
            "_model_module_version": "1.5.0",
            "_model_name": "DescriptionStyleModel",
            "_view_count": null,
            "_view_module": "@jupyter-widgets/base",
            "_view_module_version": "1.2.0",
            "_view_name": "StyleView",
            "description_width": ""
          }
        }
      }
    }
  },
  "nbformat": 4,
  "nbformat_minor": 5
}